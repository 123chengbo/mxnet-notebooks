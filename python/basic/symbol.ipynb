{
 "cells": [
  {
   "cell_type": "markdown",
   "metadata": {},
   "source": [
    "# Symbol Tutorial\n",
    "\n",
    "Besides [NDArray](./ndarray.ipynb), another main object in MXNet is the `Symbol` provided by `mxnet.symbol`, or `mxnet.sym` for short. A symbol represents a multi-output symbolic expression. They are composited by operators, such as simple matrix operations (e.g. “+”), or a neural network layer (e.g. convolution layer). An operator can take several input variables, produce more than one output variables, and have internal state variables. A variable can be either free, which we can bind with value later, or an output of another symbol. \n",
    "\n",
    "## The basic\n",
    "### Composite Symbols\n",
    "The following example composites a simple expression `a+b`. We first create the placeholders `a` and `b` with names using `mx.sym.Variable`, and then construct the desired symbol by using the operator `+`. When the string name is not given during creating, MXNet will automatically generate a unique name for the symbol, which is the case for `c`. "
   ]
  },
  {
   "cell_type": "code",
   "execution_count": 2,
   "metadata": {
    "collapsed": false
   },
   "outputs": [
    {
     "data": {
      "text/plain": [
       "(mxnet.symbol.Symbol, '_plus0')"
      ]
     },
     "execution_count": 2,
     "metadata": {},
     "output_type": "execute_result"
    }
   ],
   "source": [
    "import mxnet as mx\n",
    "a = mx.sym.Variable('a')\n",
    "b = mx.sym.Variable('b')\n",
    "c = a + b\n",
    "(type(c), c.name)"
   ]
  },
  {
   "cell_type": "markdown",
   "metadata": {},
   "source": [
    "### Shape Inference\n",
    "For each symbol, we can query its inputs (or arguments) and outputs. We can also inference the output shape by given the input shape, which facilitates memory allocation. "
   ]
  },
  {
   "cell_type": "code",
   "execution_count": 3,
   "metadata": {
    "collapsed": false,
    "scrolled": true
   },
   "outputs": [
    {
     "name": "stdout",
     "output_type": "stream",
     "text": [
      "inputs: {'a': (2L, 3L), 'b': (2L, 3L)}\n",
      "outputs: {'_plus0_output': (2L, 3L)}\n"
     ]
    }
   ],
   "source": [
    "arg_name = c.list_arguments()  # get the names of the inputs\n",
    "out_name = c.list_outputs()    # get the names of the outputs\n",
    "arg_shape, out_shape, _ = c.infer_shape(a=(2,3), b=(2,3))  \n",
    "print('inputs: %s' % (dict(zip(arg_name, arg_shape))))\n",
    "print('outputs: %s' % (dict(zip(out_name, out_shape))))"
   ]
  },
  {
   "cell_type": "markdown",
   "metadata": {},
   "source": [
    "### Bind with Data and Evaluate\n",
    "They symbol `c` we constructed declares what computation should be run. To evaluate it, we need to feed arguments, namely free variables, with data first. We can do it by using the `bind` method, which accepts device context and a `dict` mapping free variable names to `NDArray`s as arguments and returns an executor. The executor provides method `forward` for evaluation and attribute `outputs` to get all results. "
   ]
  },
  {
   "cell_type": "code",
   "execution_count": 4,
   "metadata": {
    "collapsed": false,
    "scrolled": true
   },
   "outputs": [
    {
     "name": "stdout",
     "output_type": "stream",
     "text": [
      "number of outputs = 1\n",
      "the first output = \n",
      "[[ 2.  2.  2.]\n",
      " [ 2.  2.  2.]]\n"
     ]
    }
   ],
   "source": [
    "ex = c.bind(ctx=mx.cpu(), args={'a' : mx.nd.ones([2,3]), \n",
    "                                'b' : mx.nd.ones([2,3])})\n",
    "ex.forward()\n",
    "print('number of outputs = %d\\nthe first output = \\n%s' % (\n",
    "           len(ex.outputs), ex.outputs[0].asnumpy()))"
   ]
  },
  {
   "cell_type": "markdown",
   "metadata": {},
   "source": [
    "We can evaluate the same symbol on GPU with different data"
   ]
  },
  {
   "cell_type": "code",
   "execution_count": 5,
   "metadata": {
    "collapsed": false
   },
   "outputs": [
    {
     "name": "stdout",
     "output_type": "stream",
     "text": [
      "[[ 5.  5.  5.  5.]\n",
      " [ 5.  5.  5.  5.]\n",
      " [ 5.  5.  5.  5.]]\n"
     ]
    }
   ],
   "source": [
    "ex_gpu = c.bind(ctx=mx.gpu(), args={'a' : mx.nd.ones([3,4])*2,\n",
    "                                    'b' : mx.nd.ones([3,4])*3})\n",
    "ex_gpu.forward()\n",
    "print(ex_gpu.outputs[0].asnumpy())"
   ]
  },
  {
   "cell_type": "markdown",
   "metadata": {
    "collapsed": true
   },
   "source": [
    "### Load and Save\n",
    "\n",
    "Similar to NDArray, we can either serialize a `Symbol` object by using `pickle`, or use `save` and `load` directly. Different to the binary format chosen by `NDArray`, `Symbol` uses the more readable json format for serialization. The `tojson` method returns the json string."
   ]
  },
  {
   "cell_type": "code",
   "execution_count": 6,
   "metadata": {
    "collapsed": false
   },
   "outputs": [
    {
     "name": "stdout",
     "output_type": "stream",
     "text": [
      "{\n",
      "  \"nodes\": [\n",
      "    {\n",
      "      \"op\": \"null\", \n",
      "      \"param\": {}, \n",
      "      \"name\": \"a\", \n",
      "      \"inputs\": [], \n",
      "      \"backward_source_id\": -1\n",
      "    }, \n",
      "    {\n",
      "      \"op\": \"null\", \n",
      "      \"param\": {}, \n",
      "      \"name\": \"b\", \n",
      "      \"inputs\": [], \n",
      "      \"backward_source_id\": -1\n",
      "    }, \n",
      "    {\n",
      "      \"op\": \"_Plus\", \n",
      "      \"param\": {}, \n",
      "      \"name\": \"_plus1\", \n",
      "      \"inputs\": [[0, 0], [1, 0]], \n",
      "      \"backward_source_id\": -1\n",
      "    }\n",
      "  ], \n",
      "  \"arg_nodes\": [0, 1], \n",
      "  \"heads\": [[2, 0]]\n",
      "}\n"
     ]
    },
    {
     "data": {
      "text/plain": [
       "True"
      ]
     },
     "execution_count": 6,
     "metadata": {},
     "output_type": "execute_result"
    }
   ],
   "source": [
    "a = mx.symbol.Variable('a')\n",
    "b = mx.symbol.Variable('b')\n",
    "c = a + b\n",
    "print(c.tojson())\n",
    "c.save('symbol-c.json')\n",
    "c2 = mx.symbol.load('symbol-c.json')\n",
    "c.tojson() == c2.tojson()"
   ]
  },
  {
   "cell_type": "markdown",
   "metadata": {},
   "source": [
    "## Relations to NDArray\n",
    "\n",
    "As can be seen now, there are two ways to implement `c=a+b` in MXNet, one is using NDArray directly, the other way is first creating the Symbol and then binding with NDArray data. Sometimes users are confused which way to use. We briefly clarify the difference here, more detailed explanation are available [here](http://mxnet.readthedocs.io/en/latest/system/program_model.html). \n",
    "\n",
    "The `NDArray` provides an imperative programming alike interface, in which the computations are evaluated sentence by sentence. While `Symbol` is closer to declarative programming, in which we first declare the computation, and then evaluate with data. Examples in this category include regular expression and SQL.\n",
    "\n",
    "The pros for `NDArray`:\n",
    "- straightforward\n",
    "- easy to work with other language features (for loop, if-else condition, ..) and libraries (numpy, ..)\n",
    "- easy to step-by-step debug\n",
    "\n",
    "The pros for `Symbol`:\n",
    "- provides almost all functionalities of NDArray, such as +, \\*, sin, and reshape \n",
    "- provides a large number of neural network related operators such as Convolution, Activation, and BatchNorm\n",
    "- provides automatic differentiation \n",
    "- easy to construct and manipulate complex computations such as deep neural networks\n",
    "- easy to save, load, and visualization\n",
    "- easy for the backend to optimize the computation and memory usage\n",
    "\n",
    "In MXNet, we typically use `NDArray` for\n",
    "- data containers\n",
    "- programs that requires flexibility, such as updating rules in optimization method\n",
    "- implementing Symbol operators\n",
    "\n",
    "While Symbol is mainly used for defining the neural networks, which benefits from heavy optimizations for both memory and computation.\n",
    "\n",
    "We will demonstrate all these points in the remaining of this tutorial."
   ]
  },
  {
   "cell_type": "markdown",
   "metadata": {},
   "source": [
    "## Neural Network\n",
    "\n",
    "In this section, we show how to construct and train a simple neural network.\n",
    "\n",
    "### Composite multi-layer perceptron\n",
    "\n",
    "We first construct a two layer fully connected neural work and then visualize the structure. "
   ]
  },
  {
   "cell_type": "code",
   "execution_count": 7,
   "metadata": {
    "collapsed": false
   },
   "outputs": [
    {
     "name": "stdout",
     "output_type": "stream",
     "text": [
      "<class 'mxnet.symbol.Symbol'>\n"
     ]
    },
    {
     "data": {
      "image/svg+xml": [
       "<?xml version=\"1.0\" encoding=\"UTF-8\" standalone=\"no\"?>\n",
       "<!DOCTYPE svg PUBLIC \"-//W3C//DTD SVG 1.1//EN\"\n",
       " \"http://www.w3.org/Graphics/SVG/1.1/DTD/svg11.dtd\">\n",
       "<!-- Generated by graphviz version 2.36.0 (20140111.2315)\n",
       " -->\n",
       "<!-- Title: plot Pages: 1 -->\n",
       "<svg width=\"102pt\" height=\"348pt\"\n",
       " viewBox=\"0.00 0.00 102.00 348.00\" xmlns=\"http://www.w3.org/2000/svg\" xmlns:xlink=\"http://www.w3.org/1999/xlink\">\n",
       "<g id=\"graph0\" class=\"graph\" transform=\"scale(1 1) rotate(0) translate(4 344)\">\n",
       "<title>plot</title>\n",
       "<polygon fill=\"white\" stroke=\"none\" points=\"-4,4 -4,-344 98,-344 98,4 -4,4\"/>\n",
       "<!-- fc1 -->\n",
       "<g id=\"node1\" class=\"node\"><title>fc1</title>\n",
       "<polygon fill=\"#fb8072\" stroke=\"black\" points=\"94,-58 -7.10543e-15,-58 -7.10543e-15,-3.55271e-15 94,-3.55271e-15 94,-58\"/>\n",
       "<text text-anchor=\"middle\" x=\"47\" y=\"-32.8\" font-family=\"Times,serif\" font-size=\"14.00\">FullyConnected</text>\n",
       "<text text-anchor=\"middle\" x=\"47\" y=\"-17.8\" font-family=\"Times,serif\" font-size=\"14.00\">128</text>\n",
       "</g>\n",
       "<!-- relu1 -->\n",
       "<g id=\"node2\" class=\"node\"><title>relu1</title>\n",
       "<polygon fill=\"#ffffb3\" stroke=\"black\" points=\"94,-152 -7.10543e-15,-152 -7.10543e-15,-94 94,-94 94,-152\"/>\n",
       "<text text-anchor=\"middle\" x=\"47\" y=\"-126.8\" font-family=\"Times,serif\" font-size=\"14.00\">Activation</text>\n",
       "<text text-anchor=\"middle\" x=\"47\" y=\"-111.8\" font-family=\"Times,serif\" font-size=\"14.00\">relu</text>\n",
       "</g>\n",
       "<!-- relu1&#45;&gt;fc1 -->\n",
       "<g id=\"edge1\" class=\"edge\"><title>relu1&#45;&gt;fc1</title>\n",
       "<path fill=\"none\" stroke=\"black\" d=\"M47,-83.7443C47,-75.2043 47,-66.2977 47,-58.2479\"/>\n",
       "<polygon fill=\"black\" stroke=\"black\" points=\"47,-93.8971 42.5001,-83.897 47,-88.8971 47.0001,-83.8971 47.0001,-83.8971 47.0001,-83.8971 47,-88.8971 51.5001,-83.8971 47,-93.8971 47,-93.8971\"/>\n",
       "</g>\n",
       "<!-- fc2 -->\n",
       "<g id=\"node3\" class=\"node\"><title>fc2</title>\n",
       "<polygon fill=\"#fb8072\" stroke=\"black\" points=\"94,-246 -7.10543e-15,-246 -7.10543e-15,-188 94,-188 94,-246\"/>\n",
       "<text text-anchor=\"middle\" x=\"47\" y=\"-220.8\" font-family=\"Times,serif\" font-size=\"14.00\">FullyConnected</text>\n",
       "<text text-anchor=\"middle\" x=\"47\" y=\"-205.8\" font-family=\"Times,serif\" font-size=\"14.00\">10</text>\n",
       "</g>\n",
       "<!-- fc2&#45;&gt;relu1 -->\n",
       "<g id=\"edge2\" class=\"edge\"><title>fc2&#45;&gt;relu1</title>\n",
       "<path fill=\"none\" stroke=\"black\" d=\"M47,-177.744C47,-169.204 47,-160.298 47,-152.248\"/>\n",
       "<polygon fill=\"black\" stroke=\"black\" points=\"47,-187.897 42.5001,-177.897 47,-182.897 47.0001,-177.897 47.0001,-177.897 47.0001,-177.897 47,-182.897 51.5001,-177.897 47,-187.897 47,-187.897\"/>\n",
       "</g>\n",
       "<!-- out -->\n",
       "<g id=\"node4\" class=\"node\"><title>out</title>\n",
       "<polygon fill=\"#fccde5\" stroke=\"black\" points=\"94,-340 -7.10543e-15,-340 -7.10543e-15,-282 94,-282 94,-340\"/>\n",
       "<text text-anchor=\"middle\" x=\"47\" y=\"-307.3\" font-family=\"Times,serif\" font-size=\"14.00\">SoftmaxOutput</text>\n",
       "</g>\n",
       "<!-- out&#45;&gt;fc2 -->\n",
       "<g id=\"edge3\" class=\"edge\"><title>out&#45;&gt;fc2</title>\n",
       "<path fill=\"none\" stroke=\"black\" d=\"M47,-271.744C47,-263.204 47,-254.298 47,-246.248\"/>\n",
       "<polygon fill=\"black\" stroke=\"black\" points=\"47,-281.897 42.5001,-271.897 47,-276.897 47.0001,-271.897 47.0001,-271.897 47.0001,-271.897 47,-276.897 51.5001,-271.897 47,-281.897 47,-281.897\"/>\n",
       "</g>\n",
       "</g>\n",
       "</svg>\n"
      ],
      "text/plain": [
       "<graphviz.dot.Digraph at 0x7fd3f4b4fa10>"
      ]
     },
     "execution_count": 7,
     "metadata": {},
     "output_type": "execute_result"
    }
   ],
   "source": [
    "net = mx.sym.Variable('data')\n",
    "net = mx.sym.FullyConnected(data=net, name='fc1', num_hidden=128)\n",
    "net = mx.sym.Activation(data=net, name='relu1', act_type=\"relu\")\n",
    "net = mx.sym.FullyConnected(data=net, name='fc2', num_hidden=10)\n",
    "net = mx.sym.SoftmaxOutput(data=net, name='out')\n",
    "print(type(net))\n",
    "mx.viz.plot_network(net)"
   ]
  },
  {
   "cell_type": "markdown",
   "metadata": {},
   "source": [
    "Different to simple operators such as '+', a neural network operator may have much more arguments, including inputs and model parameters. The following codes show the free variables of `net`."
   ]
  },
  {
   "cell_type": "code",
   "execution_count": 8,
   "metadata": {
    "collapsed": false,
    "scrolled": true
   },
   "outputs": [
    {
     "name": "stdout",
     "output_type": "stream",
     "text": [
      "inputs: {'fc2_weight': (10L, 128L), 'fc1_weight': (128L, 100L), 'out_label': (100L,), 'fc2_bias': (10L,), 'data': (100L, 100L), 'fc1_bias': (128L,)}\n",
      "outputs: {'out_output': (100L, 10L)}\n"
     ]
    }
   ],
   "source": [
    "arg_name = net.list_arguments()  # get the names of the inputs\n",
    "out_name = net.list_outputs()    # get the names of the outputs\n",
    "arg_shape, out_shape, _ = net.infer_shape(data=(100, 100))  \n",
    "print('inputs: %s' % (dict(zip(arg_name, arg_shape))))\n",
    "print('outputs: %s' % (dict(zip(out_name, out_shape))))"
   ]
  },
  {
   "cell_type": "markdown",
   "metadata": {},
   "source": [
    "### Generate Synthetic Data\n",
    "Before binding, we first generate a synthetic dataset"
   ]
  },
  {
   "cell_type": "code",
   "execution_count": 9,
   "metadata": {
    "collapsed": false,
    "scrolled": false
   },
   "outputs": [
    {
     "data": {
      "text/plain": [
       "<matplotlib.figure.Figure at 0x7fd43e85aa90>"
      ]
     },
     "metadata": {},
     "output_type": "display_data"
    }
   ],
   "source": [
    "import numpy as np\n",
    "import matplotlib.pyplot as plt\n",
    "class ToyData:\n",
    "    def __init__(self, num_classes, num_features):\n",
    "        self.num_classes = num_classes\n",
    "        self.num_features = num_features\n",
    "        self.mu = np.random.rand(num_classes, num_features)\n",
    "        self.sigma = np.ones((num_classes, num_features)) * 0.1\n",
    "    def get_data(self, num_samples):\n",
    "        num_cls_samples = num_samples / self.num_classes\n",
    "        x = np.zeros((num_samples, self.num_features))\n",
    "        y = np.zeros((num_samples, ))\n",
    "        for i in range(self.num_classes):\n",
    "            cls_samples = np.random.normal(self.mu[i,:], self.sigma[i,:], (num_cls_samples, self.num_features))\n",
    "            x[i*num_cls_samples:(i+1)*num_cls_samples] = cls_samples\n",
    "            y[i*num_cls_samples:(i+1)*num_cls_samples] = i\n",
    "        return x, y\n",
    "    def plot_data(self, x, y):\n",
    "        colors = ['r', 'b', 'g', 'c', 'y']\n",
    "        for i in range(self.num_classes):\n",
    "            cls_x = x[y == i]\n",
    "            plt.scatter(cls_x[:,0], cls_x[:,1], color=colors[i%5], s=1)\n",
    "        plt.show()\n",
    "\n",
    "num_classes = 5\n",
    "num_features = 100\n",
    "toy_data = ToyData(num_classes, num_features)\n",
    "x, y = toy_data.get_data(1000)\n",
    "toy_data.plot_data(x,y)\n"
   ]
  },
  {
   "cell_type": "markdown",
   "metadata": {},
   "source": [
    "### Bind and Run\n",
    "\n",
    "We can bind all free variables with NDArray as before. But here we use `simple_bind` to simplify the data allocation. It accepts the input shape to inference the shapes, and then bind all arguments.\n",
    "\n",
    "After binding, we initialize the weight randomly via the executor attribute `arg_arrays`. Within the for-loop, we use Symbol and NDArray together to write a complete training iteration:\n",
    "1. NDArray is used for data container to feed input data into the network\n",
    "2. Symbol is able do automatic differentiation to obtain the gradients\n",
    "3. The weights are updated by using NDArray operators\n",
    "\n",
    "Remember the lazy evaluation of `NDArray`, similar technology is used for Symbol. The whole loop is just push operations into the backend for execution except that for every 10 iterations, we wait the results to be finished due to the use of `asnumpy()`. "
   ]
  },
  {
   "cell_type": "code",
   "execution_count": 10,
   "metadata": {
    "collapsed": false,
    "scrolled": true
   },
   "outputs": [
    {
     "name": "stdout",
     "output_type": "stream",
     "text": [
      "iteration 0, accuracy 0.000000\n",
      "iteration 10, accuracy 0.310000\n",
      "iteration 20, accuracy 0.610000\n",
      "iteration 30, accuracy 0.650000\n",
      "iteration 40, accuracy 0.740000\n",
      "iteration 50, accuracy 0.930000\n",
      "iteration 60, accuracy 0.990000\n",
      "iteration 70, accuracy 1.000000\n",
      "iteration 80, accuracy 1.000000\n",
      "iteration 90, accuracy 1.000000\n"
     ]
    }
   ],
   "source": [
    "# bind by given data shape\n",
    "batch_size = 100\n",
    "ex = net.simple_bind(ctx=mx.cpu(), data=(batch_size, num_features))\n",
    "\n",
    "# initialize weight\n",
    "args = dict(zip(net.list_arguments(), ex.arg_arrays))\n",
    "for name, data in args.iteritems():\n",
    "    if 'weight' in name:\n",
    "        data[:] = mx.random.uniform(-0.1, 0.1, data.shape, mx.cpu())\n",
    "    if 'bias' in name:\n",
    "        data[:] = 0\n",
    "# train\n",
    "for i in range(100):\n",
    "    x, y = toy_data.get_data(batch_size)\n",
    "    args['data'][:] = x\n",
    "    args['out_label'][:] = y\n",
    "    ex.forward(is_train=True)\n",
    "    ex.backward()\n",
    "    for weight, grad in zip(ex.arg_arrays, ex.grad_arrays):\n",
    "        weight[:] -= 0.01 * (grad / batch_size)\n",
    "    if i % 10 == 0:\n",
    "        acc = (mx.nd.argmax_channel(ex.outputs[0]).asnumpy() == y).sum()\n",
    "        print('iteration %d, accuracy %f' % (i, float(acc)/y.shape[0]))\n",
    "\n",
    "    "
   ]
  },
  {
   "cell_type": "markdown",
   "metadata": {},
   "source": [
    "## More Composites\n",
    "\n",
    "We demonstrate more examples for symbol composition in this section. As mentioned before, Symbol also has most methods of NDArray, including operations and shape manipulations.\n",
    "\n",
    "### Shape Manipulation\n",
    "\n",
    "We show basic methods such as concat, reshape, and slice. More are available: `Crop`, `SwapAxis`, `broadcast_axis`, `expand_dims` and `slice_axis`. We first define some utility functions:"
   ]
  },
  {
   "cell_type": "code",
   "execution_count": 11,
   "metadata": {
    "collapsed": true
   },
   "outputs": [],
   "source": [
    "import numpy as np\n",
    "def show(msg, a):\n",
    "    \"\"\"print shape and data\"\"\"\n",
    "    print('===\\n%s\\nshape =%s, \\ndata =\\n%s' % (msg, a.shape, a.asnumpy()))\n",
    "def run(sym, data):\n",
    "    \"\"\"bind sym with data and then return the results\"\"\"\n",
    "    ex = sym.bind(ctx=mx.cpu(), args=dict(zip(sym.list_arguments(), data))) \n",
    "    ex.forward()\n",
    "    return ex.outputs[0] if len(ex.outputs) == 1 else ex.outputs"
   ]
  },
  {
   "cell_type": "markdown",
   "metadata": {},
   "source": [
    "#### Concat\n",
    "We can concatenate multiple symbols along a particular axis:"
   ]
  },
  {
   "cell_type": "code",
   "execution_count": 12,
   "metadata": {
    "collapsed": false
   },
   "outputs": [
    {
     "name": "stdout",
     "output_type": "stream",
     "text": [
      "===\n",
      "INPUT\n",
      "shape =(1L, 2L, 3L), \n",
      "data =\n",
      "[[[ 0.  1.  2.]\n",
      "  [ 3.  4.  5.]]]\n",
      "===\n",
      "CONCAT at dim = 0\n",
      "shape =(2L, 2L, 3L), \n",
      "data =\n",
      "[[[ 0.  1.  2.]\n",
      "  [ 3.  4.  5.]]\n",
      "\n",
      " [[ 0.  1.  2.]\n",
      "  [ 3.  4.  5.]]]\n",
      "===\n",
      "CONCAT at dim = 1\n",
      "shape =(1L, 4L, 3L), \n",
      "data =\n",
      "[[[ 0.  1.  2.]\n",
      "  [ 3.  4.  5.]\n",
      "  [ 0.  1.  2.]\n",
      "  [ 3.  4.  5.]]]\n",
      "===\n",
      "CONCAT at dim = 2\n",
      "shape =(1L, 2L, 6L), \n",
      "data =\n",
      "[[[ 0.  1.  2.  0.  1.  2.]\n",
      "  [ 3.  4.  5.  3.  4.  5.]]]\n"
     ]
    }
   ],
   "source": [
    "data = mx.nd.array(np.arange(6).reshape(1,2,3))\n",
    "show('INPUT', data)\n",
    "\n",
    "a = mx.sym.Variable('a')\n",
    "b = mx.sym.Variable('b')\n",
    "for dim in range(3):\n",
    "    cat = mx.sym.Concat(a, b, dim=dim)\n",
    "    show('CONCAT at dim = %d'%(dim), run(cat, (data, data)))\n",
    "    "
   ]
  },
  {
   "cell_type": "markdown",
   "metadata": {},
   "source": [
    "#### Reshape and Flatten\n",
    "A symbol can be reshaped. There is also a convenient method that reshapes a n-dimensional array into a 2-dimensional matrix, which is often used to feed convolution layer outputs into fully connected layers.  "
   ]
  },
  {
   "cell_type": "code",
   "execution_count": 25,
   "metadata": {
    "collapsed": false,
    "scrolled": true
   },
   "outputs": [
    {
     "name": "stdout",
     "output_type": "stream",
     "text": [
      "===\n",
      "INPUT\n",
      "shape =(2L, 2L, 3L), \n",
      "data =\n",
      "[[[  0.   1.   2.]\n",
      "  [  3.   4.   5.]]\n",
      "\n",
      " [[  6.   7.   8.]\n",
      "  [  9.  10.  11.]]]\n",
      "===\n",
      "FLATTEN\n",
      "shape =(2L, 6L), \n",
      "data =\n",
      "[[  0.   1.   2.   3.   4.   5.]\n",
      " [  6.   7.   8.   9.  10.  11.]]\n",
      "===\n",
      "RESHAPE\n",
      "shape =(2L, 6L), \n",
      "data =\n",
      "[[  0.   1.   2.   3.   4.   5.]\n",
      " [  6.   7.   8.   9.  10.  11.]]\n"
     ]
    }
   ],
   "source": [
    "data = mx.nd.array(np.arange(12).reshape(2,2,3))\n",
    "show('INPUT', data)\n",
    "\n",
    "a = mx.sym.Variable('a')\n",
    "flat = mx.sym.Flatten(a)\n",
    "show('FLATTEN', run(flat, (data,)))\n",
    "\n",
    "reshape = mx.sym.Reshape(a, shape=(2,6))\n",
    "show('RESHAPE', run(reshape, (data,)))"
   ]
  },
  {
   "cell_type": "markdown",
   "metadata": {},
   "source": [
    "#### Slice\n",
    "We can slice a Symbol evenly into n parts along a dimension, which returns a symbol has n outputs. "
   ]
  },
  {
   "cell_type": "code",
   "execution_count": 14,
   "metadata": {
    "collapsed": false,
    "scrolled": true
   },
   "outputs": [
    {
     "name": "stdout",
     "output_type": "stream",
     "text": [
      "===\n",
      "INPUT\n",
      "shape =(2L, 3L), \n",
      "data =\n",
      "[[ 0.  1.  2.]\n",
      " [ 3.  4.  5.]]\n",
      "===\n",
      "2nd slice along axis=0\n",
      "shape =(1L, 3L), \n",
      "data =\n",
      "[[ 3.  4.  5.]]\n",
      "===\n",
      "2nd slice along axis=1\n",
      "shape =(2L, 1L), \n",
      "data =\n",
      "[[ 1.]\n",
      " [ 4.]]\n"
     ]
    }
   ],
   "source": [
    "data = mx.nd.array(np.arange(6).reshape(2,3))\n",
    "show('INPUT', data)\n",
    "\n",
    "for dim in range(2):    \n",
    "    sliced = mx.sym.SliceChannel(a, axis=dim, num_outputs=data.shape[dim])\n",
    "    res = run(sliced, (data,))\n",
    "    show('2nd slice along axis=%d'%(dim), res[1])"
   ]
  },
  {
   "cell_type": "markdown",
   "metadata": {},
   "source": [
    "### Deep Neural Networks\n",
    "For deep networks, such as the Google Inception, constructing layer by layer is painful given the large number of layers. For these networks, we often modularize the construction. Take the Google Inception as an example, we can first define a factory function to chain the convolution layer, batch normalization layer, and Relu activation layer together:"
   ]
  },
  {
   "cell_type": "code",
   "execution_count": 15,
   "metadata": {
    "collapsed": false
   },
   "outputs": [
    {
     "data": {
      "image/svg+xml": [
       "<?xml version=\"1.0\" encoding=\"UTF-8\" standalone=\"no\"?>\n",
       "<!DOCTYPE svg PUBLIC \"-//W3C//DTD SVG 1.1//EN\"\n",
       " \"http://www.w3.org/Graphics/SVG/1.1/DTD/svg11.dtd\">\n",
       "<!-- Generated by graphviz version 2.36.0 (20140111.2315)\n",
       " -->\n",
       "<!-- Title: plot Pages: 1 -->\n",
       "<svg width=\"110pt\" height=\"286pt\"\n",
       " viewBox=\"0.00 0.00 110.00 286.00\" xmlns=\"http://www.w3.org/2000/svg\" xmlns:xlink=\"http://www.w3.org/1999/xlink\">\n",
       "<g id=\"graph0\" class=\"graph\" transform=\"scale(1 1) rotate(0) translate(4 282)\">\n",
       "<title>plot</title>\n",
       "<polygon fill=\"white\" stroke=\"none\" points=\"-4,4 -4,-282 106,-282 106,4 -4,4\"/>\n",
       "<!-- conv_None -->\n",
       "<g id=\"node1\" class=\"node\"><title>conv_None</title>\n",
       "<polygon fill=\"#fb8072\" stroke=\"black\" points=\"94,-58 -7.10543e-15,-58 -7.10543e-15,-3.55271e-15 94,-3.55271e-15 94,-58\"/>\n",
       "<text text-anchor=\"middle\" x=\"47\" y=\"-32.8\" font-family=\"Times,serif\" font-size=\"14.00\">Convolution</text>\n",
       "<text text-anchor=\"middle\" x=\"47\" y=\"-17.8\" font-family=\"Times,serif\" font-size=\"14.00\">7x7/2, 64</text>\n",
       "</g>\n",
       "<!-- bn_None -->\n",
       "<g id=\"node2\" class=\"node\"><title>bn_None</title>\n",
       "<polygon fill=\"#bebada\" stroke=\"black\" points=\"94,-168 -7.10543e-15,-168 -7.10543e-15,-110 94,-110 94,-168\"/>\n",
       "<text text-anchor=\"middle\" x=\"47\" y=\"-135.3\" font-family=\"Times,serif\" font-size=\"14.00\">BatchNorm</text>\n",
       "</g>\n",
       "<!-- bn_None&#45;&gt;conv_None -->\n",
       "<g id=\"edge1\" class=\"edge\"><title>bn_None&#45;&gt;conv_None</title>\n",
       "<path fill=\"none\" stroke=\"black\" d=\"M47,-99.8131C47,-86.1516 47,-71.0092 47,-58.3283\"/>\n",
       "<polygon fill=\"black\" stroke=\"black\" points=\"47,-109.906 42.5001,-99.9062 47,-104.906 47.0001,-99.9062 47.0001,-99.9062 47.0001,-99.9062 47,-104.906 51.5001,-99.9062 47,-109.906 47,-109.906\"/>\n",
       "<text text-anchor=\"middle\" x=\"74.5\" y=\"-80.3\" font-family=\"Times,serif\" font-size=\"14.00\">64x11x11</text>\n",
       "</g>\n",
       "<!-- relu_None -->\n",
       "<g id=\"node3\" class=\"node\"><title>relu_None</title>\n",
       "<polygon fill=\"#ffffb3\" stroke=\"black\" points=\"94,-278 -7.10543e-15,-278 -7.10543e-15,-220 94,-220 94,-278\"/>\n",
       "<text text-anchor=\"middle\" x=\"47\" y=\"-252.8\" font-family=\"Times,serif\" font-size=\"14.00\">Activation</text>\n",
       "<text text-anchor=\"middle\" x=\"47\" y=\"-237.8\" font-family=\"Times,serif\" font-size=\"14.00\">relu</text>\n",
       "</g>\n",
       "<!-- relu_None&#45;&gt;bn_None -->\n",
       "<g id=\"edge2\" class=\"edge\"><title>relu_None&#45;&gt;bn_None</title>\n",
       "<path fill=\"none\" stroke=\"black\" d=\"M47,-209.813C47,-196.152 47,-181.009 47,-168.328\"/>\n",
       "<polygon fill=\"black\" stroke=\"black\" points=\"47,-219.906 42.5001,-209.906 47,-214.906 47.0001,-209.906 47.0001,-209.906 47.0001,-209.906 47,-214.906 51.5001,-209.906 47,-219.906 47,-219.906\"/>\n",
       "<text text-anchor=\"middle\" x=\"74.5\" y=\"-190.3\" font-family=\"Times,serif\" font-size=\"14.00\">64x11x11</text>\n",
       "</g>\n",
       "</g>\n",
       "</svg>\n"
      ],
      "text/plain": [
       "<graphviz.dot.Digraph at 0x7fd3f4b4f550>"
      ]
     },
     "execution_count": 15,
     "metadata": {},
     "output_type": "execute_result"
    }
   ],
   "source": [
    "def ConvFactory(data, num_filter, kernel, stride=(1,1), pad=(0, 0), name=None, suffix=''):\n",
    "    conv = mx.symbol.Convolution(data=data, num_filter=num_filter, kernel=kernel, stride=stride, pad=pad, name='conv_%s%s' %(name, suffix))\n",
    "    bn = mx.symbol.BatchNorm(data=conv, name='bn_%s%s' %(name, suffix))\n",
    "    act = mx.symbol.Activation(data=bn, act_type='relu', name='relu_%s%s' %(name, suffix))\n",
    "    return act\n",
    "prev = mx.symbol.Variable(name=\"Previos Output\")\n",
    "conv_comp = ConvFactory(data=prev, num_filter=64, kernel=(7,7), stride=(2, 2))\n",
    "shape = {\"Previos Output\" : (128, 3, 28, 28)}\n",
    "mx.viz.plot_network(symbol=conv_comp, shape=shape)"
   ]
  },
  {
   "cell_type": "markdown",
   "metadata": {},
   "source": [
    "Then we define a function that constructs an Inception module based on `ConvFactory`"
   ]
  },
  {
   "cell_type": "code",
   "execution_count": 16,
   "metadata": {
    "collapsed": false
   },
   "outputs": [
    {
     "data": {
      "image/svg+xml": [
       "<?xml version=\"1.0\" encoding=\"UTF-8\" standalone=\"no\"?>\n",
       "<!DOCTYPE svg PUBLIC \"-//W3C//DTD SVG 1.1//EN\"\n",
       " \"http://www.w3.org/Graphics/SVG/1.1/DTD/svg11.dtd\">\n",
       "<!-- Generated by graphviz version 2.36.0 (20140111.2315)\n",
       " -->\n",
       "<!-- Title: plot Pages: 1 -->\n",
       "<svg width=\"446pt\" height=\"1056pt\"\n",
       " viewBox=\"0.00 0.00 446.00 1056.00\" xmlns=\"http://www.w3.org/2000/svg\" xmlns:xlink=\"http://www.w3.org/1999/xlink\">\n",
       "<g id=\"graph0\" class=\"graph\" transform=\"scale(1 1) rotate(0) translate(4 1052)\">\n",
       "<title>plot</title>\n",
       "<polygon fill=\"white\" stroke=\"none\" points=\"-4,4 -4,-1052 442,-1052 442,4 -4,4\"/>\n",
       "<!-- conv_in3a_1x1 -->\n",
       "<g id=\"node1\" class=\"node\"><title>conv_in3a_1x1</title>\n",
       "<polygon fill=\"#fb8072\" stroke=\"black\" points=\"94,-718 -7.10543e-15,-718 -7.10543e-15,-660 94,-660 94,-718\"/>\n",
       "<text text-anchor=\"middle\" x=\"47\" y=\"-692.8\" font-family=\"Times,serif\" font-size=\"14.00\">Convolution</text>\n",
       "<text text-anchor=\"middle\" x=\"47\" y=\"-677.8\" font-family=\"Times,serif\" font-size=\"14.00\">1x1/1, 64</text>\n",
       "</g>\n",
       "<!-- bn_in3a_1x1 -->\n",
       "<g id=\"node2\" class=\"node\"><title>bn_in3a_1x1</title>\n",
       "<polygon fill=\"#bebada\" stroke=\"black\" points=\"94,-828 -7.10543e-15,-828 -7.10543e-15,-770 94,-770 94,-828\"/>\n",
       "<text text-anchor=\"middle\" x=\"47\" y=\"-795.3\" font-family=\"Times,serif\" font-size=\"14.00\">BatchNorm</text>\n",
       "</g>\n",
       "<!-- bn_in3a_1x1&#45;&gt;conv_in3a_1x1 -->\n",
       "<g id=\"edge1\" class=\"edge\"><title>bn_in3a_1x1&#45;&gt;conv_in3a_1x1</title>\n",
       "<path fill=\"none\" stroke=\"black\" d=\"M47,-759.813C47,-746.152 47,-731.009 47,-718.328\"/>\n",
       "<polygon fill=\"black\" stroke=\"black\" points=\"47,-769.906 42.5001,-759.906 47,-764.906 47.0001,-759.906 47.0001,-759.906 47.0001,-759.906 47,-764.906 51.5001,-759.906 47,-769.906 47,-769.906\"/>\n",
       "<text text-anchor=\"middle\" x=\"74.5\" y=\"-740.3\" font-family=\"Times,serif\" font-size=\"14.00\">64x28x28</text>\n",
       "</g>\n",
       "<!-- relu_in3a_1x1 -->\n",
       "<g id=\"node3\" class=\"node\"><title>relu_in3a_1x1</title>\n",
       "<polygon fill=\"#ffffb3\" stroke=\"black\" points=\"94,-938 -7.10543e-15,-938 -7.10543e-15,-880 94,-880 94,-938\"/>\n",
       "<text text-anchor=\"middle\" x=\"47\" y=\"-912.8\" font-family=\"Times,serif\" font-size=\"14.00\">Activation</text>\n",
       "<text text-anchor=\"middle\" x=\"47\" y=\"-897.8\" font-family=\"Times,serif\" font-size=\"14.00\">relu</text>\n",
       "</g>\n",
       "<!-- relu_in3a_1x1&#45;&gt;bn_in3a_1x1 -->\n",
       "<g id=\"edge2\" class=\"edge\"><title>relu_in3a_1x1&#45;&gt;bn_in3a_1x1</title>\n",
       "<path fill=\"none\" stroke=\"black\" d=\"M47,-869.813C47,-856.152 47,-841.009 47,-828.328\"/>\n",
       "<polygon fill=\"black\" stroke=\"black\" points=\"47,-879.906 42.5001,-869.906 47,-874.906 47.0001,-869.906 47.0001,-869.906 47.0001,-869.906 47,-874.906 51.5001,-869.906 47,-879.906 47,-879.906\"/>\n",
       "<text text-anchor=\"middle\" x=\"74.5\" y=\"-850.3\" font-family=\"Times,serif\" font-size=\"14.00\">64x28x28</text>\n",
       "</g>\n",
       "<!-- conv_in3a_3x3_reduce -->\n",
       "<g id=\"node4\" class=\"node\"><title>conv_in3a_3x3_reduce</title>\n",
       "<polygon fill=\"#fb8072\" stroke=\"black\" points=\"206,-388 112,-388 112,-330 206,-330 206,-388\"/>\n",
       "<text text-anchor=\"middle\" x=\"159\" y=\"-362.8\" font-family=\"Times,serif\" font-size=\"14.00\">Convolution</text>\n",
       "<text text-anchor=\"middle\" x=\"159\" y=\"-347.8\" font-family=\"Times,serif\" font-size=\"14.00\">1x1/1, 64</text>\n",
       "</g>\n",
       "<!-- bn_in3a_3x3_reduce -->\n",
       "<g id=\"node5\" class=\"node\"><title>bn_in3a_3x3_reduce</title>\n",
       "<polygon fill=\"#bebada\" stroke=\"black\" points=\"206,-498 112,-498 112,-440 206,-440 206,-498\"/>\n",
       "<text text-anchor=\"middle\" x=\"159\" y=\"-465.3\" font-family=\"Times,serif\" font-size=\"14.00\">BatchNorm</text>\n",
       "</g>\n",
       "<!-- bn_in3a_3x3_reduce&#45;&gt;conv_in3a_3x3_reduce -->\n",
       "<g id=\"edge3\" class=\"edge\"><title>bn_in3a_3x3_reduce&#45;&gt;conv_in3a_3x3_reduce</title>\n",
       "<path fill=\"none\" stroke=\"black\" d=\"M159,-429.813C159,-416.152 159,-401.009 159,-388.328\"/>\n",
       "<polygon fill=\"black\" stroke=\"black\" points=\"159,-439.906 154.5,-429.906 159,-434.906 159,-429.906 159,-429.906 159,-429.906 159,-434.906 163.5,-429.906 159,-439.906 159,-439.906\"/>\n",
       "<text text-anchor=\"middle\" x=\"186.5\" y=\"-410.3\" font-family=\"Times,serif\" font-size=\"14.00\">64x28x28</text>\n",
       "</g>\n",
       "<!-- relu_in3a_3x3_reduce -->\n",
       "<g id=\"node6\" class=\"node\"><title>relu_in3a_3x3_reduce</title>\n",
       "<polygon fill=\"#ffffb3\" stroke=\"black\" points=\"206,-608 112,-608 112,-550 206,-550 206,-608\"/>\n",
       "<text text-anchor=\"middle\" x=\"159\" y=\"-582.8\" font-family=\"Times,serif\" font-size=\"14.00\">Activation</text>\n",
       "<text text-anchor=\"middle\" x=\"159\" y=\"-567.8\" font-family=\"Times,serif\" font-size=\"14.00\">relu</text>\n",
       "</g>\n",
       "<!-- relu_in3a_3x3_reduce&#45;&gt;bn_in3a_3x3_reduce -->\n",
       "<g id=\"edge4\" class=\"edge\"><title>relu_in3a_3x3_reduce&#45;&gt;bn_in3a_3x3_reduce</title>\n",
       "<path fill=\"none\" stroke=\"black\" d=\"M159,-539.813C159,-526.152 159,-511.009 159,-498.328\"/>\n",
       "<polygon fill=\"black\" stroke=\"black\" points=\"159,-549.906 154.5,-539.906 159,-544.906 159,-539.906 159,-539.906 159,-539.906 159,-544.906 163.5,-539.906 159,-549.906 159,-549.906\"/>\n",
       "<text text-anchor=\"middle\" x=\"186.5\" y=\"-520.3\" font-family=\"Times,serif\" font-size=\"14.00\">64x28x28</text>\n",
       "</g>\n",
       "<!-- conv_in3a_3x3 -->\n",
       "<g id=\"node7\" class=\"node\"><title>conv_in3a_3x3</title>\n",
       "<polygon fill=\"#fb8072\" stroke=\"black\" points=\"206,-718 112,-718 112,-660 206,-660 206,-718\"/>\n",
       "<text text-anchor=\"middle\" x=\"159\" y=\"-692.8\" font-family=\"Times,serif\" font-size=\"14.00\">Convolution</text>\n",
       "<text text-anchor=\"middle\" x=\"159\" y=\"-677.8\" font-family=\"Times,serif\" font-size=\"14.00\">3x3/1, 64</text>\n",
       "</g>\n",
       "<!-- conv_in3a_3x3&#45;&gt;relu_in3a_3x3_reduce -->\n",
       "<g id=\"edge5\" class=\"edge\"><title>conv_in3a_3x3&#45;&gt;relu_in3a_3x3_reduce</title>\n",
       "<path fill=\"none\" stroke=\"black\" d=\"M159,-649.813C159,-636.152 159,-621.009 159,-608.328\"/>\n",
       "<polygon fill=\"black\" stroke=\"black\" points=\"159,-659.906 154.5,-649.906 159,-654.906 159,-649.906 159,-649.906 159,-649.906 159,-654.906 163.5,-649.906 159,-659.906 159,-659.906\"/>\n",
       "<text text-anchor=\"middle\" x=\"186.5\" y=\"-630.3\" font-family=\"Times,serif\" font-size=\"14.00\">64x28x28</text>\n",
       "</g>\n",
       "<!-- bn_in3a_3x3 -->\n",
       "<g id=\"node8\" class=\"node\"><title>bn_in3a_3x3</title>\n",
       "<polygon fill=\"#bebada\" stroke=\"black\" points=\"206,-828 112,-828 112,-770 206,-770 206,-828\"/>\n",
       "<text text-anchor=\"middle\" x=\"159\" y=\"-795.3\" font-family=\"Times,serif\" font-size=\"14.00\">BatchNorm</text>\n",
       "</g>\n",
       "<!-- bn_in3a_3x3&#45;&gt;conv_in3a_3x3 -->\n",
       "<g id=\"edge6\" class=\"edge\"><title>bn_in3a_3x3&#45;&gt;conv_in3a_3x3</title>\n",
       "<path fill=\"none\" stroke=\"black\" d=\"M159,-759.813C159,-746.152 159,-731.009 159,-718.328\"/>\n",
       "<polygon fill=\"black\" stroke=\"black\" points=\"159,-769.906 154.5,-759.906 159,-764.906 159,-759.906 159,-759.906 159,-759.906 159,-764.906 163.5,-759.906 159,-769.906 159,-769.906\"/>\n",
       "<text text-anchor=\"middle\" x=\"186.5\" y=\"-740.3\" font-family=\"Times,serif\" font-size=\"14.00\">64x28x28</text>\n",
       "</g>\n",
       "<!-- relu_in3a_3x3 -->\n",
       "<g id=\"node9\" class=\"node\"><title>relu_in3a_3x3</title>\n",
       "<polygon fill=\"#ffffb3\" stroke=\"black\" points=\"206,-938 112,-938 112,-880 206,-880 206,-938\"/>\n",
       "<text text-anchor=\"middle\" x=\"159\" y=\"-912.8\" font-family=\"Times,serif\" font-size=\"14.00\">Activation</text>\n",
       "<text text-anchor=\"middle\" x=\"159\" y=\"-897.8\" font-family=\"Times,serif\" font-size=\"14.00\">relu</text>\n",
       "</g>\n",
       "<!-- relu_in3a_3x3&#45;&gt;bn_in3a_3x3 -->\n",
       "<g id=\"edge7\" class=\"edge\"><title>relu_in3a_3x3&#45;&gt;bn_in3a_3x3</title>\n",
       "<path fill=\"none\" stroke=\"black\" d=\"M159,-869.813C159,-856.152 159,-841.009 159,-828.328\"/>\n",
       "<polygon fill=\"black\" stroke=\"black\" points=\"159,-879.906 154.5,-869.906 159,-874.906 159,-869.906 159,-869.906 159,-869.906 159,-874.906 163.5,-869.906 159,-879.906 159,-879.906\"/>\n",
       "<text text-anchor=\"middle\" x=\"186.5\" y=\"-850.3\" font-family=\"Times,serif\" font-size=\"14.00\">64x28x28</text>\n",
       "</g>\n",
       "<!-- conv_in3a_double_3x3_reduce -->\n",
       "<g id=\"node10\" class=\"node\"><title>conv_in3a_double_3x3_reduce</title>\n",
       "<polygon fill=\"#fb8072\" stroke=\"black\" points=\"318,-58 224,-58 224,-3.55271e-15 318,-3.55271e-15 318,-58\"/>\n",
       "<text text-anchor=\"middle\" x=\"271\" y=\"-32.8\" font-family=\"Times,serif\" font-size=\"14.00\">Convolution</text>\n",
       "<text text-anchor=\"middle\" x=\"271\" y=\"-17.8\" font-family=\"Times,serif\" font-size=\"14.00\">1x1/1, 64</text>\n",
       "</g>\n",
       "<!-- bn_in3a_double_3x3_reduce -->\n",
       "<g id=\"node11\" class=\"node\"><title>bn_in3a_double_3x3_reduce</title>\n",
       "<polygon fill=\"#bebada\" stroke=\"black\" points=\"318,-168 224,-168 224,-110 318,-110 318,-168\"/>\n",
       "<text text-anchor=\"middle\" x=\"271\" y=\"-135.3\" font-family=\"Times,serif\" font-size=\"14.00\">BatchNorm</text>\n",
       "</g>\n",
       "<!-- bn_in3a_double_3x3_reduce&#45;&gt;conv_in3a_double_3x3_reduce -->\n",
       "<g id=\"edge8\" class=\"edge\"><title>bn_in3a_double_3x3_reduce&#45;&gt;conv_in3a_double_3x3_reduce</title>\n",
       "<path fill=\"none\" stroke=\"black\" d=\"M271,-99.8131C271,-86.1516 271,-71.0092 271,-58.3283\"/>\n",
       "<polygon fill=\"black\" stroke=\"black\" points=\"271,-109.906 266.5,-99.9062 271,-104.906 271,-99.9062 271,-99.9062 271,-99.9062 271,-104.906 275.5,-99.9062 271,-109.906 271,-109.906\"/>\n",
       "<text text-anchor=\"middle\" x=\"298.5\" y=\"-80.3\" font-family=\"Times,serif\" font-size=\"14.00\">64x28x28</text>\n",
       "</g>\n",
       "<!-- relu_in3a_double_3x3_reduce -->\n",
       "<g id=\"node12\" class=\"node\"><title>relu_in3a_double_3x3_reduce</title>\n",
       "<polygon fill=\"#ffffb3\" stroke=\"black\" points=\"318,-278 224,-278 224,-220 318,-220 318,-278\"/>\n",
       "<text text-anchor=\"middle\" x=\"271\" y=\"-252.8\" font-family=\"Times,serif\" font-size=\"14.00\">Activation</text>\n",
       "<text text-anchor=\"middle\" x=\"271\" y=\"-237.8\" font-family=\"Times,serif\" font-size=\"14.00\">relu</text>\n",
       "</g>\n",
       "<!-- relu_in3a_double_3x3_reduce&#45;&gt;bn_in3a_double_3x3_reduce -->\n",
       "<g id=\"edge9\" class=\"edge\"><title>relu_in3a_double_3x3_reduce&#45;&gt;bn_in3a_double_3x3_reduce</title>\n",
       "<path fill=\"none\" stroke=\"black\" d=\"M271,-209.813C271,-196.152 271,-181.009 271,-168.328\"/>\n",
       "<polygon fill=\"black\" stroke=\"black\" points=\"271,-219.906 266.5,-209.906 271,-214.906 271,-209.906 271,-209.906 271,-209.906 271,-214.906 275.5,-209.906 271,-219.906 271,-219.906\"/>\n",
       "<text text-anchor=\"middle\" x=\"298.5\" y=\"-190.3\" font-family=\"Times,serif\" font-size=\"14.00\">64x28x28</text>\n",
       "</g>\n",
       "<!-- conv_in3a_double_3x3_0 -->\n",
       "<g id=\"node13\" class=\"node\"><title>conv_in3a_double_3x3_0</title>\n",
       "<polygon fill=\"#fb8072\" stroke=\"black\" points=\"318,-388 224,-388 224,-330 318,-330 318,-388\"/>\n",
       "<text text-anchor=\"middle\" x=\"271\" y=\"-362.8\" font-family=\"Times,serif\" font-size=\"14.00\">Convolution</text>\n",
       "<text text-anchor=\"middle\" x=\"271\" y=\"-347.8\" font-family=\"Times,serif\" font-size=\"14.00\">3x3/1, 96</text>\n",
       "</g>\n",
       "<!-- conv_in3a_double_3x3_0&#45;&gt;relu_in3a_double_3x3_reduce -->\n",
       "<g id=\"edge10\" class=\"edge\"><title>conv_in3a_double_3x3_0&#45;&gt;relu_in3a_double_3x3_reduce</title>\n",
       "<path fill=\"none\" stroke=\"black\" d=\"M271,-319.813C271,-306.152 271,-291.009 271,-278.328\"/>\n",
       "<polygon fill=\"black\" stroke=\"black\" points=\"271,-329.906 266.5,-319.906 271,-324.906 271,-319.906 271,-319.906 271,-319.906 271,-324.906 275.5,-319.906 271,-329.906 271,-329.906\"/>\n",
       "<text text-anchor=\"middle\" x=\"298.5\" y=\"-300.3\" font-family=\"Times,serif\" font-size=\"14.00\">64x28x28</text>\n",
       "</g>\n",
       "<!-- bn_in3a_double_3x3_0 -->\n",
       "<g id=\"node14\" class=\"node\"><title>bn_in3a_double_3x3_0</title>\n",
       "<polygon fill=\"#bebada\" stroke=\"black\" points=\"318,-498 224,-498 224,-440 318,-440 318,-498\"/>\n",
       "<text text-anchor=\"middle\" x=\"271\" y=\"-465.3\" font-family=\"Times,serif\" font-size=\"14.00\">BatchNorm</text>\n",
       "</g>\n",
       "<!-- bn_in3a_double_3x3_0&#45;&gt;conv_in3a_double_3x3_0 -->\n",
       "<g id=\"edge11\" class=\"edge\"><title>bn_in3a_double_3x3_0&#45;&gt;conv_in3a_double_3x3_0</title>\n",
       "<path fill=\"none\" stroke=\"black\" d=\"M271,-429.813C271,-416.152 271,-401.009 271,-388.328\"/>\n",
       "<polygon fill=\"black\" stroke=\"black\" points=\"271,-439.906 266.5,-429.906 271,-434.906 271,-429.906 271,-429.906 271,-429.906 271,-434.906 275.5,-429.906 271,-439.906 271,-439.906\"/>\n",
       "<text text-anchor=\"middle\" x=\"298.5\" y=\"-410.3\" font-family=\"Times,serif\" font-size=\"14.00\">96x28x28</text>\n",
       "</g>\n",
       "<!-- relu_in3a_double_3x3_0 -->\n",
       "<g id=\"node15\" class=\"node\"><title>relu_in3a_double_3x3_0</title>\n",
       "<polygon fill=\"#ffffb3\" stroke=\"black\" points=\"318,-608 224,-608 224,-550 318,-550 318,-608\"/>\n",
       "<text text-anchor=\"middle\" x=\"271\" y=\"-582.8\" font-family=\"Times,serif\" font-size=\"14.00\">Activation</text>\n",
       "<text text-anchor=\"middle\" x=\"271\" y=\"-567.8\" font-family=\"Times,serif\" font-size=\"14.00\">relu</text>\n",
       "</g>\n",
       "<!-- relu_in3a_double_3x3_0&#45;&gt;bn_in3a_double_3x3_0 -->\n",
       "<g id=\"edge12\" class=\"edge\"><title>relu_in3a_double_3x3_0&#45;&gt;bn_in3a_double_3x3_0</title>\n",
       "<path fill=\"none\" stroke=\"black\" d=\"M271,-539.813C271,-526.152 271,-511.009 271,-498.328\"/>\n",
       "<polygon fill=\"black\" stroke=\"black\" points=\"271,-549.906 266.5,-539.906 271,-544.906 271,-539.906 271,-539.906 271,-539.906 271,-544.906 275.5,-539.906 271,-549.906 271,-549.906\"/>\n",
       "<text text-anchor=\"middle\" x=\"298.5\" y=\"-520.3\" font-family=\"Times,serif\" font-size=\"14.00\">96x28x28</text>\n",
       "</g>\n",
       "<!-- conv_in3a_double_3x3_1 -->\n",
       "<g id=\"node16\" class=\"node\"><title>conv_in3a_double_3x3_1</title>\n",
       "<polygon fill=\"#fb8072\" stroke=\"black\" points=\"318,-718 224,-718 224,-660 318,-660 318,-718\"/>\n",
       "<text text-anchor=\"middle\" x=\"271\" y=\"-692.8\" font-family=\"Times,serif\" font-size=\"14.00\">Convolution</text>\n",
       "<text text-anchor=\"middle\" x=\"271\" y=\"-677.8\" font-family=\"Times,serif\" font-size=\"14.00\">3x3/1, 96</text>\n",
       "</g>\n",
       "<!-- conv_in3a_double_3x3_1&#45;&gt;relu_in3a_double_3x3_0 -->\n",
       "<g id=\"edge13\" class=\"edge\"><title>conv_in3a_double_3x3_1&#45;&gt;relu_in3a_double_3x3_0</title>\n",
       "<path fill=\"none\" stroke=\"black\" d=\"M271,-649.813C271,-636.152 271,-621.009 271,-608.328\"/>\n",
       "<polygon fill=\"black\" stroke=\"black\" points=\"271,-659.906 266.5,-649.906 271,-654.906 271,-649.906 271,-649.906 271,-649.906 271,-654.906 275.5,-649.906 271,-659.906 271,-659.906\"/>\n",
       "<text text-anchor=\"middle\" x=\"298.5\" y=\"-630.3\" font-family=\"Times,serif\" font-size=\"14.00\">96x28x28</text>\n",
       "</g>\n",
       "<!-- bn_in3a_double_3x3_1 -->\n",
       "<g id=\"node17\" class=\"node\"><title>bn_in3a_double_3x3_1</title>\n",
       "<polygon fill=\"#bebada\" stroke=\"black\" points=\"318,-828 224,-828 224,-770 318,-770 318,-828\"/>\n",
       "<text text-anchor=\"middle\" x=\"271\" y=\"-795.3\" font-family=\"Times,serif\" font-size=\"14.00\">BatchNorm</text>\n",
       "</g>\n",
       "<!-- bn_in3a_double_3x3_1&#45;&gt;conv_in3a_double_3x3_1 -->\n",
       "<g id=\"edge14\" class=\"edge\"><title>bn_in3a_double_3x3_1&#45;&gt;conv_in3a_double_3x3_1</title>\n",
       "<path fill=\"none\" stroke=\"black\" d=\"M271,-759.813C271,-746.152 271,-731.009 271,-718.328\"/>\n",
       "<polygon fill=\"black\" stroke=\"black\" points=\"271,-769.906 266.5,-759.906 271,-764.906 271,-759.906 271,-759.906 271,-759.906 271,-764.906 275.5,-759.906 271,-769.906 271,-769.906\"/>\n",
       "<text text-anchor=\"middle\" x=\"298.5\" y=\"-740.3\" font-family=\"Times,serif\" font-size=\"14.00\">96x28x28</text>\n",
       "</g>\n",
       "<!-- relu_in3a_double_3x3_1 -->\n",
       "<g id=\"node18\" class=\"node\"><title>relu_in3a_double_3x3_1</title>\n",
       "<polygon fill=\"#ffffb3\" stroke=\"black\" points=\"318,-938 224,-938 224,-880 318,-880 318,-938\"/>\n",
       "<text text-anchor=\"middle\" x=\"271\" y=\"-912.8\" font-family=\"Times,serif\" font-size=\"14.00\">Activation</text>\n",
       "<text text-anchor=\"middle\" x=\"271\" y=\"-897.8\" font-family=\"Times,serif\" font-size=\"14.00\">relu</text>\n",
       "</g>\n",
       "<!-- relu_in3a_double_3x3_1&#45;&gt;bn_in3a_double_3x3_1 -->\n",
       "<g id=\"edge15\" class=\"edge\"><title>relu_in3a_double_3x3_1&#45;&gt;bn_in3a_double_3x3_1</title>\n",
       "<path fill=\"none\" stroke=\"black\" d=\"M271,-869.813C271,-856.152 271,-841.009 271,-828.328\"/>\n",
       "<polygon fill=\"black\" stroke=\"black\" points=\"271,-879.906 266.5,-869.906 271,-874.906 271,-869.906 271,-869.906 271,-869.906 271,-874.906 275.5,-869.906 271,-879.906 271,-879.906\"/>\n",
       "<text text-anchor=\"middle\" x=\"298.5\" y=\"-850.3\" font-family=\"Times,serif\" font-size=\"14.00\">96x28x28</text>\n",
       "</g>\n",
       "<!-- avg_pool_in3a_pool -->\n",
       "<g id=\"node19\" class=\"node\"><title>avg_pool_in3a_pool</title>\n",
       "<polygon fill=\"#80b1d3\" stroke=\"black\" points=\"430,-608 336,-608 336,-550 430,-550 430,-608\"/>\n",
       "<text text-anchor=\"middle\" x=\"383\" y=\"-582.8\" font-family=\"Times,serif\" font-size=\"14.00\">Pooling</text>\n",
       "<text text-anchor=\"middle\" x=\"383\" y=\"-567.8\" font-family=\"Times,serif\" font-size=\"14.00\">avg, 3x3/1</text>\n",
       "</g>\n",
       "<!-- conv_in3a_proj -->\n",
       "<g id=\"node20\" class=\"node\"><title>conv_in3a_proj</title>\n",
       "<polygon fill=\"#fb8072\" stroke=\"black\" points=\"430,-718 336,-718 336,-660 430,-660 430,-718\"/>\n",
       "<text text-anchor=\"middle\" x=\"383\" y=\"-692.8\" font-family=\"Times,serif\" font-size=\"14.00\">Convolution</text>\n",
       "<text text-anchor=\"middle\" x=\"383\" y=\"-677.8\" font-family=\"Times,serif\" font-size=\"14.00\">1x1/1, 32</text>\n",
       "</g>\n",
       "<!-- conv_in3a_proj&#45;&gt;avg_pool_in3a_pool -->\n",
       "<g id=\"edge16\" class=\"edge\"><title>conv_in3a_proj&#45;&gt;avg_pool_in3a_pool</title>\n",
       "<path fill=\"none\" stroke=\"black\" d=\"M383,-649.813C383,-636.152 383,-621.009 383,-608.328\"/>\n",
       "<polygon fill=\"black\" stroke=\"black\" points=\"383,-659.906 378.5,-649.906 383,-654.906 383,-649.906 383,-649.906 383,-649.906 383,-654.906 387.5,-649.906 383,-659.906 383,-659.906\"/>\n",
       "<text text-anchor=\"middle\" x=\"407\" y=\"-630.3\" font-family=\"Times,serif\" font-size=\"14.00\">3x28x28</text>\n",
       "</g>\n",
       "<!-- bn_in3a_proj -->\n",
       "<g id=\"node21\" class=\"node\"><title>bn_in3a_proj</title>\n",
       "<polygon fill=\"#bebada\" stroke=\"black\" points=\"430,-828 336,-828 336,-770 430,-770 430,-828\"/>\n",
       "<text text-anchor=\"middle\" x=\"383\" y=\"-795.3\" font-family=\"Times,serif\" font-size=\"14.00\">BatchNorm</text>\n",
       "</g>\n",
       "<!-- bn_in3a_proj&#45;&gt;conv_in3a_proj -->\n",
       "<g id=\"edge17\" class=\"edge\"><title>bn_in3a_proj&#45;&gt;conv_in3a_proj</title>\n",
       "<path fill=\"none\" stroke=\"black\" d=\"M383,-759.813C383,-746.152 383,-731.009 383,-718.328\"/>\n",
       "<polygon fill=\"black\" stroke=\"black\" points=\"383,-769.906 378.5,-759.906 383,-764.906 383,-759.906 383,-759.906 383,-759.906 383,-764.906 387.5,-759.906 383,-769.906 383,-769.906\"/>\n",
       "<text text-anchor=\"middle\" x=\"410.5\" y=\"-740.3\" font-family=\"Times,serif\" font-size=\"14.00\">32x28x28</text>\n",
       "</g>\n",
       "<!-- relu_in3a_proj -->\n",
       "<g id=\"node22\" class=\"node\"><title>relu_in3a_proj</title>\n",
       "<polygon fill=\"#ffffb3\" stroke=\"black\" points=\"430,-938 336,-938 336,-880 430,-880 430,-938\"/>\n",
       "<text text-anchor=\"middle\" x=\"383\" y=\"-912.8\" font-family=\"Times,serif\" font-size=\"14.00\">Activation</text>\n",
       "<text text-anchor=\"middle\" x=\"383\" y=\"-897.8\" font-family=\"Times,serif\" font-size=\"14.00\">relu</text>\n",
       "</g>\n",
       "<!-- relu_in3a_proj&#45;&gt;bn_in3a_proj -->\n",
       "<g id=\"edge18\" class=\"edge\"><title>relu_in3a_proj&#45;&gt;bn_in3a_proj</title>\n",
       "<path fill=\"none\" stroke=\"black\" d=\"M383,-869.813C383,-856.152 383,-841.009 383,-828.328\"/>\n",
       "<polygon fill=\"black\" stroke=\"black\" points=\"383,-879.906 378.5,-869.906 383,-874.906 383,-869.906 383,-869.906 383,-869.906 383,-874.906 387.5,-869.906 383,-879.906 383,-879.906\"/>\n",
       "<text text-anchor=\"middle\" x=\"410.5\" y=\"-850.3\" font-family=\"Times,serif\" font-size=\"14.00\">32x28x28</text>\n",
       "</g>\n",
       "<!-- ch_concat_in3a_chconcat -->\n",
       "<g id=\"node23\" class=\"node\"><title>ch_concat_in3a_chconcat</title>\n",
       "<polygon fill=\"#fdb462\" stroke=\"black\" points=\"261,-1048 167,-1048 167,-990 261,-990 261,-1048\"/>\n",
       "<text text-anchor=\"middle\" x=\"214\" y=\"-1015.3\" font-family=\"Times,serif\" font-size=\"14.00\">Concat</text>\n",
       "</g>\n",
       "<!-- ch_concat_in3a_chconcat&#45;&gt;relu_in3a_1x1 -->\n",
       "<g id=\"edge19\" class=\"edge\"><title>ch_concat_in3a_chconcat&#45;&gt;relu_in3a_1x1</title>\n",
       "<path fill=\"none\" stroke=\"black\" d=\"M157.586,-994.107C144.222,-987.602 130.29,-980.093 118,-972 103.103,-962.19 88.0196,-949.494 75.6099,-938.148\"/>\n",
       "<polygon fill=\"black\" stroke=\"black\" points=\"166.72,-998.445 155.756,-998.22 162.203,-996.3 157.687,-994.155 157.687,-994.155 157.687,-994.155 162.203,-996.3 159.617,-990.09 166.72,-998.445 166.72,-998.445\"/>\n",
       "<text text-anchor=\"middle\" x=\"145.5\" y=\"-960.3\" font-family=\"Times,serif\" font-size=\"14.00\">64x28x28</text>\n",
       "</g>\n",
       "<!-- ch_concat_in3a_chconcat&#45;&gt;relu_in3a_3x3 -->\n",
       "<g id=\"edge20\" class=\"edge\"><title>ch_concat_in3a_chconcat&#45;&gt;relu_in3a_3x3</title>\n",
       "<path fill=\"none\" stroke=\"black\" d=\"M189.888,-980.898C188.175,-977.921 186.525,-974.931 185,-972 179.397,-961.232 174.055,-948.98 169.687,-938.228\"/>\n",
       "<polygon fill=\"black\" stroke=\"black\" points=\"195.15,-989.721 186.163,-983.437 192.589,-985.427 190.028,-981.132 190.028,-981.132 190.028,-981.132 192.589,-985.427 193.893,-978.828 195.15,-989.721 195.15,-989.721\"/>\n",
       "<text text-anchor=\"middle\" x=\"212.5\" y=\"-960.3\" font-family=\"Times,serif\" font-size=\"14.00\">64x28x28</text>\n",
       "</g>\n",
       "<!-- ch_concat_in3a_chconcat&#45;&gt;relu_in3a_double_3x3_1 -->\n",
       "<g id=\"edge21\" class=\"edge\"><title>ch_concat_in3a_chconcat&#45;&gt;relu_in3a_double_3x3_1</title>\n",
       "<path fill=\"none\" stroke=\"black\" d=\"M235.165,-980.932C236.819,-977.92 238.449,-974.915 240,-972 245.823,-961.058 251.979,-948.884 257.257,-938.241\"/>\n",
       "<polygon fill=\"black\" stroke=\"black\" points=\"230.178,-989.906 231.102,-978.979 232.607,-985.535 235.036,-981.165 235.036,-981.165 235.036,-981.165 232.607,-985.535 238.969,-983.351 230.178,-989.906 230.178,-989.906\"/>\n",
       "<text text-anchor=\"middle\" x=\"274.5\" y=\"-960.3\" font-family=\"Times,serif\" font-size=\"14.00\">96x28x28</text>\n",
       "</g>\n",
       "<!-- ch_concat_in3a_chconcat&#45;&gt;relu_in3a_proj -->\n",
       "<g id=\"edge22\" class=\"edge\"><title>ch_concat_in3a_chconcat&#45;&gt;relu_in3a_proj</title>\n",
       "<path fill=\"none\" stroke=\"black\" d=\"M270.468,-992.162C282.465,-986.016 294.864,-979.15 306,-972 321.598,-961.985 337.739,-949.386 351.19,-938.165\"/>\n",
       "<polygon fill=\"black\" stroke=\"black\" points=\"261.4,-996.714 268.318,-988.206 265.869,-994.471 270.337,-992.228 270.337,-992.228 270.337,-992.228 265.869,-994.471 272.356,-996.249 261.4,-996.714 261.4,-996.714\"/>\n",
       "<text text-anchor=\"middle\" x=\"355.5\" y=\"-960.3\" font-family=\"Times,serif\" font-size=\"14.00\">32x28x28</text>\n",
       "</g>\n",
       "</g>\n",
       "</svg>\n"
      ],
      "text/plain": [
       "<graphviz.dot.Digraph at 0x7fd40ba33750>"
      ]
     },
     "execution_count": 16,
     "metadata": {},
     "output_type": "execute_result"
    }
   ],
   "source": [
    "def InceptionFactoryA(data, num_1x1, num_3x3red, num_3x3, num_d3x3red, num_d3x3, pool, proj, name):\n",
    "    # 1x1\n",
    "    c1x1 = ConvFactory(data=data, num_filter=num_1x1, kernel=(1, 1), name=('%s_1x1' % name))\n",
    "    # 3x3 reduce + 3x3\n",
    "    c3x3r = ConvFactory(data=data, num_filter=num_3x3red, kernel=(1, 1), name=('%s_3x3' % name), suffix='_reduce')\n",
    "    c3x3 = ConvFactory(data=c3x3r, num_filter=num_3x3, kernel=(3, 3), pad=(1, 1), name=('%s_3x3' % name))\n",
    "    # double 3x3 reduce + double 3x3\n",
    "    cd3x3r = ConvFactory(data=data, num_filter=num_d3x3red, kernel=(1, 1), name=('%s_double_3x3' % name), suffix='_reduce')\n",
    "    cd3x3 = ConvFactory(data=cd3x3r, num_filter=num_d3x3, kernel=(3, 3), pad=(1, 1), name=('%s_double_3x3_0' % name))\n",
    "    cd3x3 = ConvFactory(data=cd3x3, num_filter=num_d3x3, kernel=(3, 3), pad=(1, 1), name=('%s_double_3x3_1' % name))\n",
    "    # pool + proj\n",
    "    pooling = mx.symbol.Pooling(data=data, kernel=(3, 3), stride=(1, 1), pad=(1, 1), pool_type=pool, name=('%s_pool_%s_pool' % (pool, name)))\n",
    "    cproj = ConvFactory(data=pooling, num_filter=proj, kernel=(1, 1), name=('%s_proj' %  name))\n",
    "    # concat\n",
    "    concat = mx.symbol.Concat(*[c1x1, c3x3, cd3x3, cproj], name='ch_concat_%s_chconcat' % name)\n",
    "    return concat\n",
    "prev = mx.symbol.Variable(name=\"Previos Output\")\n",
    "in3a = InceptionFactoryA(prev, 64, 64, 64, 64, 96, \"avg\", 32, name=\"in3a\")\n",
    "mx.viz.plot_network(symbol=in3a, shape=shape)"
   ]
  },
  {
   "cell_type": "markdown",
   "metadata": {},
   "source": [
    "Finally we can obtain the whole network by chaining multiple inception modulas. A complete example is available at [mxnet/example/image-classification/symbol_inception-bn.py](https://github.com/dmlc/mxnet/blob/master/example/image-classification/symbol_inception-bn.py)"
   ]
  },
  {
   "cell_type": "markdown",
   "metadata": {},
   "source": [
    "### Group Multiple Symbols\n",
    "\n",
    "To construct neural networks with multiple loss layers, we can use `mxnet.sym.Group` to group multiple symbols together. "
   ]
  },
  {
   "cell_type": "code",
   "execution_count": 17,
   "metadata": {
    "collapsed": false
   },
   "outputs": [
    {
     "name": "stdout",
     "output_type": "stream",
     "text": [
      "['fc1_output', 'softmax_output']\n"
     ]
    }
   ],
   "source": [
    "net = mx.sym.Variable('data')\n",
    "fc1 = mx.sym.FullyConnected(data=net, name='fc1', num_hidden=128)\n",
    "net = mx.sym.Activation(data=fc1, name='relu1', act_type=\"relu\")\n",
    "out = mx.sym.SoftmaxOutput(data=net, name='softmax')\n",
    "group = mx.sym.Group([fc1, out])\n",
    "print(group.list_outputs())"
   ]
  },
  {
   "cell_type": "markdown",
   "metadata": {},
   "source": [
    "## Advanced Usages\n",
    "\n",
    "### Type Cast\n",
    "MXNet uses 32-bit float in default. Sometimes we want to use a lower precision data type for better accuracy-performance trade-off. For example, The Nvidia Tesla Pascal GPUs (e.g. P100) have improved 16-bit float performance, while GTX Pascal GPUs (e.g. GTX 1080) are fast on 8-bit integers. \n",
    "\n",
    "We can use the `mx.sym.Cast` operator to convert the data type."
   ]
  },
  {
   "cell_type": "code",
   "execution_count": 18,
   "metadata": {
    "collapsed": false,
    "scrolled": false
   },
   "outputs": [
    {
     "name": "stdout",
     "output_type": "stream",
     "text": [
      "{'input': [<type 'numpy.float32'>], 'output': [<type 'numpy.float16'>]}\n",
      "{'input': [<type 'numpy.int32'>], 'output': [<type 'numpy.float16'>]}\n"
     ]
    }
   ],
   "source": [
    "a = mx.sym.Variable('data')\n",
    "b = mx.sym.Cast(data=a, dtype='float16')\n",
    "arg, out, _ = b.infer_type(data='float32')\n",
    "print({'input':arg, 'output':out})\n",
    "\n",
    "c = mx.sym.Cast(data=c, dtype='uint8')\n",
    "arg, out, _ = b.infer_type(data='int32')\n",
    "print({'input':arg, 'output':out})"
   ]
  },
  {
   "cell_type": "markdown",
   "metadata": {},
   "source": [
    "### Customized Symbol\n",
    "\n",
    "Most operators such as `mx.sym.Convolution` and `mx.sym.Reshape` are implemented in C++ for better performance. MXNet also allows users to write new operators using any frontend language such as Python. It often makes the developing and debugging much easier. \n",
    "\n",
    "To implement an operator in Python, we just need to define the two computation methods `forward` and `backward` with several methods for querying the properties, such as `list_arguments` and `infer_shape`. \n",
    "\n",
    "`NDArray` is the default type of arguments in both `forward` and `backward`. Therefore we often also implement the computation with `NDArray` operations. To show the flexibility of MXNet, however, we will demonstrate an implementation of the `softmax` layer using NumPy. Though a NumPy based operator can be only run on CPU and also lose some optimizations which can be applied on NDArray, it enjoys the rich functionalities provided by NumPy.\n",
    "\n",
    "We first create a subclass of `mx.operator.CustomOp` and then define `forward` and `backward`."
   ]
  },
  {
   "cell_type": "code",
   "execution_count": 19,
   "metadata": {
    "collapsed": false
   },
   "outputs": [],
   "source": [
    "class Softmax(mx.operator.CustomOp):\n",
    "    def forward(self, is_train, req, in_data, out_data, aux):\n",
    "        x = in_data[0].asnumpy()\n",
    "        y = np.exp(x - x.max(axis=1).reshape((x.shape[0], 1)))\n",
    "        y /= y.sum(axis=1).reshape((x.shape[0], 1))\n",
    "        self.assign(out_data[0], req[0], mx.nd.array(y))\n",
    "\n",
    "    def backward(self, req, out_grad, in_data, out_data, in_grad, aux):\n",
    "        l = in_data[1].asnumpy().ravel().astype(np.int)\n",
    "        y = out_data[0].asnumpy()\n",
    "        y[np.arange(l.shape[0]), l] -= 1.0\n",
    "        self.assign(in_grad[0], req[0], mx.nd.array(y))"
   ]
  },
  {
   "cell_type": "markdown",
   "metadata": {
    "collapsed": true
   },
   "source": [
    "Here we use `asnumpy` to convert the `NDArray` inputs into `numpy.ndarray`. Then using `CustomOp.assign` to assign the results back to `mxnet.NDArray` based on the value of req, which could be \"over write\" or \"add to\". \n",
    "\n",
    "Next we create a subclass of `mx.operator.CustomOpProp` for querying the properties."
   ]
  },
  {
   "cell_type": "code",
   "execution_count": 20,
   "metadata": {
    "collapsed": true
   },
   "outputs": [],
   "source": [
    "# register this operator into MXNet by name \"softmax\"\n",
    "@mx.operator.register(\"softmax\")\n",
    "class SoftmaxProp(mx.operator.CustomOpProp):\n",
    "    def __init__(self):\n",
    "        # softmax is a loss layer so we don’t need gradient input\n",
    "        # from layers above. \n",
    "        super(SoftmaxProp, self).__init__(need_top_grad=False)\n",
    "    \n",
    "    def list_arguments(self):\n",
    "        return ['data', 'label']\n",
    "\n",
    "    def list_outputs(self):\n",
    "        return ['output']\n",
    "\n",
    "    def infer_shape(self, in_shape):\n",
    "        data_shape = in_shape[0]\n",
    "        label_shape = (in_shape[0][0],)\n",
    "        output_shape = in_shape[0]\n",
    "        return [data_shape, label_shape], [output_shape], []\n",
    "\n",
    "    def create_operator(self, ctx, shapes, dtypes):\n",
    "        return Softmax()"
   ]
  },
  {
   "cell_type": "markdown",
   "metadata": {},
   "source": [
    "Finally, we can use `mx.sym.Custom` with the register name to use this operator\n",
    "```python\n",
    "net = mx.symbol.Custom(data=prev_input, op_type='softmax')\n",
    "```"
   ]
  },
  {
   "cell_type": "markdown",
   "metadata": {},
   "source": [
    "### Symbol Attributes\n",
    "Attributes can be attached to symbols to provide additional information.\n",
    "For example, we can pass the device information for model parallelism, or layer specific learning rate. \n",
    "\n",
    "The attributes are string key-value pairs, which can be retrieved via `attr(key)` or `list_attr()`."
   ]
  },
  {
   "cell_type": "code",
   "execution_count": 21,
   "metadata": {
    "collapsed": false
   },
   "outputs": [
    {
     "data": {
      "text/plain": [
       "('angry', {'mood': 'so so'})"
      ]
     },
     "execution_count": 21,
     "metadata": {},
     "output_type": "execute_result"
    }
   ],
   "source": [
    "data = mx.sym.Variable('data', attr={'mood': 'angry'})\n",
    "op   = mx.sym.Convolution(data=data, name='conv', kernel=(1, 1),\n",
    "                          num_filter=1, attr={'mood': 'so so'})\n",
    "(data.attr('mood'), op.list_attr())"
   ]
  },
  {
   "cell_type": "markdown",
   "metadata": {},
   "source": [
    "We can also retrieve all the attributes associated with that symbol and its descendants via `list_attr(recursive=True)`. Note that the returned attribute names are added with the symbol name prefix to avoid naming conflicts."
   ]
  },
  {
   "cell_type": "code",
   "execution_count": 22,
   "metadata": {
    "collapsed": false
   },
   "outputs": [
    {
     "data": {
      "text/plain": [
       "{'conv_bias_mood': 'so so',\n",
       " 'conv_mood': 'so so',\n",
       " 'conv_weight_mood': 'so so',\n",
       " 'data_mood': 'angry'}"
      ]
     },
     "execution_count": 22,
     "metadata": {},
     "output_type": "execute_result"
    }
   ],
   "source": [
    "op.list_attr(recursive=True)"
   ]
  },
  {
   "cell_type": "markdown",
   "metadata": {},
   "source": [
    "Note that the `mood` attribute we set for the Convolution operator is copied to both parameters `conv_weight` and `conv_bias`. This copy is applied in default. We can also use `AttrScope` to add attributes to all symbols in the scope."
   ]
  },
  {
   "cell_type": "code",
   "execution_count": 23,
   "metadata": {
    "collapsed": false
   },
   "outputs": [
    {
     "data": {
      "text/plain": [
       "('great', 'great', '0.0')"
      ]
     },
     "execution_count": 23,
     "metadata": {},
     "output_type": "execute_result"
    }
   ],
   "source": [
    "data = mx.symbol.Variable('data')\n",
    "with mx.AttrScope(group='4', data='great'):\n",
    "    fc1 = mx.symbol.Activation(data, act_type='relu')\n",
    "    with mx.AttrScope(init_bias='0.0'):\n",
    "        fc2 = mx.symbol.FullyConnected(fc1, num_hidden=10, name='fc2')\n",
    "(fc1.attr('data'), fc2.attr('data'), fc2.attr('init_bias'))"
   ]
  },
  {
   "cell_type": "markdown",
   "metadata": {},
   "source": [
    "We can explicitly create the parameter to stop the default copy. "
   ]
  },
  {
   "cell_type": "code",
   "execution_count": 24,
   "metadata": {
    "collapsed": false
   },
   "outputs": [
    {
     "data": {
      "text/plain": [
       "{'conv_bias_mood': 'so so', 'conv_mood': 'so so', 'crazy_weight_size': '5'}"
      ]
     },
     "execution_count": 24,
     "metadata": {},
     "output_type": "execute_result"
    }
   ],
   "source": [
    "weight = mx.sym.Variable('crazy_weight', attr={'size': '5'})\n",
    "op = mx.sym.Convolution(data=data, weight=weight, name='conv', kernel=(1, 1),\n",
    "                        num_filter=1, attr={'mood': 'so so'})\n",
    "op.list_attr(recursive=True)"
   ]
  },
  {
   "cell_type": "markdown",
   "metadata": {},
   "source": [
    "## Further Readings\n",
    "\n",
    "- [Use torch operators in MXNet](http://mxnet.dmlc.ml/en/latest/how_to/torch.html)\n",
    "- [Use Caffe operators in MXNet](http://dmlc.ml/mxnet/2016/07/29/use-caffe-operator-in-mxnet.html)"
   ]
  }
 ],
 "metadata": {
  "anaconda-cloud": {},
  "kernelspec": {
   "display_name": "Python [Root]",
   "language": "python",
   "name": "Python [Root]"
  },
  "language_info": {
   "codemirror_mode": {
    "name": "ipython",
    "version": 3
   },
   "file_extension": ".py",
   "mimetype": "text/x-python",
   "name": "python",
   "nbconvert_exporter": "python",
   "pygments_lexer": "ipython3",
   "version": "3.5.2"
  }
 },
 "nbformat": 4,
 "nbformat_minor": 1
}
