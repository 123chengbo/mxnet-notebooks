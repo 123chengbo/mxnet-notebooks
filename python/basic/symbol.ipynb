{
 "cells": [
  {
   "cell_type": "markdown",
   "metadata": {},
   "source": [
    "# Symbol Tutorial\n",
    "\n",
    "Besides [NDArray](./ndarray.ipynb), another main object in MXNet is the `Symbol` provided by `mxnet.symbol`, or `mxnet.sym` for short. A symbol represents a multi-output symbolic expression. They are composited by operators, such as simple matrix operations (e.g. “+”), or a neural network layer (e.g. convolution layer). An operator can take several input variables, produce more than one output variables, and have internal state variables. A variable can be either free, which we can bind with value later, or an output of another symbol. \n",
    "\n",
    "## The basic\n",
    "### Composite Symbols\n",
    "The following example composites a simple expression `a+b`. We first create the placeholders `a` and `b` with names using `mx.sym.Variable`, and then construct the desired symbol by using the operator `+`. When the string name is not given during creating, MXNet will automatically generate a unique name for the symbol, which is the case for `c`. "
   ]
  },
  {
   "cell_type": "code",
   "execution_count": 1,
   "metadata": {
    "collapsed": false
   },
   "outputs": [
    {
     "data": {
      "text/plain": [
       "(mxnet.symbol.Symbol, '_plus0')"
      ]
     },
     "execution_count": 1,
     "metadata": {},
     "output_type": "execute_result"
    }
   ],
   "source": [
    "import mxnet as mx\n",
    "a = mx.sym.Variable('a')\n",
    "b = mx.sym.Variable('b')\n",
    "c = a + b\n",
    "(type(c), c.name)"
   ]
  },
  {
   "cell_type": "markdown",
   "metadata": {},
   "source": [
    "### Shape Inference\n",
    "For each symbol, we can query its inputs (or arguments) and outputs. We can also inference the output shape by given the input shape, which facilitates memory allocation. "
   ]
  },
  {
   "cell_type": "code",
   "execution_count": 2,
   "metadata": {
    "collapsed": false,
    "scrolled": true
   },
   "outputs": [
    {
     "name": "stdout",
     "output_type": "stream",
     "text": [
      "inputs: {'a': (2L, 3L), 'b': (2L, 3L)}\n",
      "outputs: {'_plus0_output': (2L, 3L)}\n"
     ]
    }
   ],
   "source": [
    "arg_name = c.list_arguments()  # get the names of the inputs\n",
    "out_name = c.list_outputs()    # get the names of the outputs\n",
    "arg_shape, out_shape, _ = c.infer_shape(a=(2,3), b=(2,3))  \n",
    "print('inputs: %s' % (dict(zip(arg_name, arg_shape))))\n",
    "print('outputs: %s' % (dict(zip(out_name, out_shape))))"
   ]
  },
  {
   "cell_type": "markdown",
   "metadata": {},
   "source": [
    "### Bind with Data and Evaluate\n",
    "They symbol `c` we constructed declares what computation should be run. To evaluate it, we need to feed arguments, namely free variables, with data first. We can do it by using the `bind` method, which accepts device context and a `dict` mapping free variable names to `NDArray`s as arguments and returns an executor. The executor provides method `forward` for evaluation and attribute `outputs` to get all results. "
   ]
  },
  {
   "cell_type": "code",
   "execution_count": 3,
   "metadata": {
    "collapsed": false,
    "scrolled": true
   },
   "outputs": [
    {
     "name": "stdout",
     "output_type": "stream",
     "text": [
      "number of outputs = 1\n",
      "the first output = \n",
      "[[ 2.  2.  2.]\n",
      " [ 2.  2.  2.]]\n"
     ]
    }
   ],
   "source": [
    "ex = c.bind(ctx=mx.cpu(), args={'a' : mx.nd.ones([2,3]), \n",
    "                                'b' : mx.nd.ones([2,3])})\n",
    "ex.forward()\n",
    "print('number of outputs = %d\\nthe first output = \\n%s' % (\n",
    "           len(ex.outputs), ex.outputs[0].asnumpy()))"
   ]
  },
  {
   "cell_type": "markdown",
   "metadata": {},
   "source": [
    "We can evaluate the same symbol on GPU with different data"
   ]
  },
  {
   "cell_type": "code",
   "execution_count": 4,
   "metadata": {
    "collapsed": false
   },
   "outputs": [
    {
     "name": "stdout",
     "output_type": "stream",
     "text": [
      "[[ 5.  5.  5.  5.]\n",
      " [ 5.  5.  5.  5.]\n",
      " [ 5.  5.  5.  5.]]\n"
     ]
    }
   ],
   "source": [
    "ex_gpu = c.bind(ctx=mx.gpu(), args={'a' : mx.nd.ones([3,4])*2,\n",
    "                                    'b' : mx.nd.ones([3,4])*3})\n",
    "ex_gpu.forward()\n",
    "print(ex_gpu.outputs[0].asnumpy())"
   ]
  },
  {
   "cell_type": "markdown",
   "metadata": {
    "collapsed": true
   },
   "source": [
    "### Load and Save\n",
    "\n",
    "Similar to NDArray, we can either serialize a `Symbol` object by using `pickle`, or use `save` and `load` directly. Different to the binary format chosen by `NDArray`, `Symbol` uses the more readable json format for serialization. The `tojson` method returns the json string."
   ]
  },
  {
   "cell_type": "code",
   "execution_count": 5,
   "metadata": {
    "collapsed": false,
    "scrolled": true
   },
   "outputs": [
    {
     "name": "stdout",
     "output_type": "stream",
     "text": [
      "{\n",
      "  \"nodes\": [\n",
      "    {\n",
      "      \"op\": \"null\", \n",
      "      \"param\": {}, \n",
      "      \"name\": \"a\", \n",
      "      \"inputs\": [], \n",
      "      \"backward_source_id\": -1\n",
      "    }, \n",
      "    {\n",
      "      \"op\": \"null\", \n",
      "      \"param\": {}, \n",
      "      \"name\": \"b\", \n",
      "      \"inputs\": [], \n",
      "      \"backward_source_id\": -1\n",
      "    }, \n",
      "    {\n",
      "      \"op\": \"_Plus\", \n",
      "      \"param\": {}, \n",
      "      \"name\": \"_plus0\", \n",
      "      \"inputs\": [[0, 0], [1, 0]], \n",
      "      \"backward_source_id\": -1\n",
      "    }\n",
      "  ], \n",
      "  \"arg_nodes\": [0, 1], \n",
      "  \"heads\": [[2, 0]]\n",
      "}\n"
     ]
    },
    {
     "data": {
      "text/plain": [
       "True"
      ]
     },
     "execution_count": 5,
     "metadata": {},
     "output_type": "execute_result"
    }
   ],
   "source": [
    "print(c.tojson())\n",
    "c.save('symbol-c.json')\n",
    "c2 = mx.symbol.load('symbol-c.json')\n",
    "c.tojson() == c2.tojson()"
   ]
  },
  {
   "cell_type": "markdown",
   "metadata": {},
   "source": [
    "#### Neural Networks\n",
    "\n",
    "Besides the operator `+` and other operators we demonstrated in [ndarray tutorial](./ndarray.ipynb), Symbol has a rich set of neural network layers. The following codes construct a two layer fully connected neural work and then visualize the structure. "
   ]
  },
  {
   "cell_type": "code",
   "execution_count": 6,
   "metadata": {
    "collapsed": false
   },
   "outputs": [
    {
     "name": "stdout",
     "output_type": "stream",
     "text": [
      "<class 'mxnet.symbol.Symbol'>\n"
     ]
    },
    {
     "data": {
      "image/svg+xml": [
       "<?xml version=\"1.0\" encoding=\"UTF-8\" standalone=\"no\"?>\n",
       "<!DOCTYPE svg PUBLIC \"-//W3C//DTD SVG 1.1//EN\"\n",
       " \"http://www.w3.org/Graphics/SVG/1.1/DTD/svg11.dtd\">\n",
       "<!-- Generated by graphviz version 2.36.0 (20140111.2315)\n",
       " -->\n",
       "<!-- Title: plot Pages: 1 -->\n",
       "<svg width=\"102pt\" height=\"442pt\"\n",
       " viewBox=\"0.00 0.00 102.00 442.00\" xmlns=\"http://www.w3.org/2000/svg\" xmlns:xlink=\"http://www.w3.org/1999/xlink\">\n",
       "<g id=\"graph0\" class=\"graph\" transform=\"scale(1 1) rotate(0) translate(4 438)\">\n",
       "<title>plot</title>\n",
       "<polygon fill=\"white\" stroke=\"none\" points=\"-4,4 -4,-438 98,-438 98,4 -4,4\"/>\n",
       "<!-- data -->\n",
       "<g id=\"node1\" class=\"node\"><title>data</title>\n",
       "<polygon fill=\"#8dd3c7\" stroke=\"black\" points=\"94,-58 -7.10543e-15,-58 -7.10543e-15,-3.55271e-15 94,-3.55271e-15 94,-58\"/>\n",
       "<text text-anchor=\"middle\" x=\"47\" y=\"-25.3\" font-family=\"Times,serif\" font-size=\"14.00\">data</text>\n",
       "</g>\n",
       "<!-- fc1 -->\n",
       "<g id=\"node2\" class=\"node\"><title>fc1</title>\n",
       "<polygon fill=\"#fb8072\" stroke=\"black\" points=\"94,-152 -7.10543e-15,-152 -7.10543e-15,-94 94,-94 94,-152\"/>\n",
       "<text text-anchor=\"middle\" x=\"47\" y=\"-126.8\" font-family=\"Times,serif\" font-size=\"14.00\">FullyConnected</text>\n",
       "<text text-anchor=\"middle\" x=\"47\" y=\"-111.8\" font-family=\"Times,serif\" font-size=\"14.00\">128</text>\n",
       "</g>\n",
       "<!-- fc1&#45;&gt;data -->\n",
       "<g id=\"edge1\" class=\"edge\"><title>fc1&#45;&gt;data</title>\n",
       "<path fill=\"none\" stroke=\"black\" d=\"M47,-83.7443C47,-75.2043 47,-66.2977 47,-58.2479\"/>\n",
       "<polygon fill=\"black\" stroke=\"black\" points=\"47,-93.8971 42.5001,-83.897 47,-88.8971 47.0001,-83.8971 47.0001,-83.8971 47.0001,-83.8971 47,-88.8971 51.5001,-83.8971 47,-93.8971 47,-93.8971\"/>\n",
       "</g>\n",
       "<!-- relu1 -->\n",
       "<g id=\"node3\" class=\"node\"><title>relu1</title>\n",
       "<polygon fill=\"#ffffb3\" stroke=\"black\" points=\"94,-246 -7.10543e-15,-246 -7.10543e-15,-188 94,-188 94,-246\"/>\n",
       "<text text-anchor=\"middle\" x=\"47\" y=\"-220.8\" font-family=\"Times,serif\" font-size=\"14.00\">Activation</text>\n",
       "<text text-anchor=\"middle\" x=\"47\" y=\"-205.8\" font-family=\"Times,serif\" font-size=\"14.00\">relu</text>\n",
       "</g>\n",
       "<!-- relu1&#45;&gt;fc1 -->\n",
       "<g id=\"edge2\" class=\"edge\"><title>relu1&#45;&gt;fc1</title>\n",
       "<path fill=\"none\" stroke=\"black\" d=\"M47,-177.744C47,-169.204 47,-160.298 47,-152.248\"/>\n",
       "<polygon fill=\"black\" stroke=\"black\" points=\"47,-187.897 42.5001,-177.897 47,-182.897 47.0001,-177.897 47.0001,-177.897 47.0001,-177.897 47,-182.897 51.5001,-177.897 47,-187.897 47,-187.897\"/>\n",
       "</g>\n",
       "<!-- fc2 -->\n",
       "<g id=\"node4\" class=\"node\"><title>fc2</title>\n",
       "<polygon fill=\"#fb8072\" stroke=\"black\" points=\"94,-340 -7.10543e-15,-340 -7.10543e-15,-282 94,-282 94,-340\"/>\n",
       "<text text-anchor=\"middle\" x=\"47\" y=\"-314.8\" font-family=\"Times,serif\" font-size=\"14.00\">FullyConnected</text>\n",
       "<text text-anchor=\"middle\" x=\"47\" y=\"-299.8\" font-family=\"Times,serif\" font-size=\"14.00\">10</text>\n",
       "</g>\n",
       "<!-- fc2&#45;&gt;relu1 -->\n",
       "<g id=\"edge3\" class=\"edge\"><title>fc2&#45;&gt;relu1</title>\n",
       "<path fill=\"none\" stroke=\"black\" d=\"M47,-271.744C47,-263.204 47,-254.298 47,-246.248\"/>\n",
       "<polygon fill=\"black\" stroke=\"black\" points=\"47,-281.897 42.5001,-271.897 47,-276.897 47.0001,-271.897 47.0001,-271.897 47.0001,-271.897 47,-276.897 51.5001,-271.897 47,-281.897 47,-281.897\"/>\n",
       "</g>\n",
       "<!-- out -->\n",
       "<g id=\"node5\" class=\"node\"><title>out</title>\n",
       "<polygon fill=\"#fccde5\" stroke=\"black\" points=\"94,-434 -7.10543e-15,-434 -7.10543e-15,-376 94,-376 94,-434\"/>\n",
       "<text text-anchor=\"middle\" x=\"47\" y=\"-401.3\" font-family=\"Times,serif\" font-size=\"14.00\">SoftmaxOutput</text>\n",
       "</g>\n",
       "<!-- out&#45;&gt;fc2 -->\n",
       "<g id=\"edge4\" class=\"edge\"><title>out&#45;&gt;fc2</title>\n",
       "<path fill=\"none\" stroke=\"black\" d=\"M47,-365.744C47,-357.204 47,-348.298 47,-340.248\"/>\n",
       "<polygon fill=\"black\" stroke=\"black\" points=\"47,-375.897 42.5001,-365.897 47,-370.897 47.0001,-365.897 47.0001,-365.897 47.0001,-365.897 47,-370.897 51.5001,-365.897 47,-375.897 47,-375.897\"/>\n",
       "</g>\n",
       "</g>\n",
       "</svg>\n"
      ],
      "text/plain": [
       "<graphviz.dot.Digraph at 0x7faee411aa10>"
      ]
     },
     "execution_count": 6,
     "metadata": {},
     "output_type": "execute_result"
    }
   ],
   "source": [
    "net = mx.sym.Variable('data')\n",
    "net = mx.sym.FullyConnected(data=net, name='fc1', num_hidden=128)\n",
    "net = mx.sym.Activation(data=net, name='relu1', act_type=\"relu\")\n",
    "net = mx.sym.FullyConnected(data=net, name='fc2', num_hidden=10)\n",
    "net = mx.sym.SoftmaxOutput(data=net, name='out')\n",
    "print(type(net))\n",
    "mx.viz.plot_network(net)"
   ]
  },
  {
   "cell_type": "markdown",
   "metadata": {},
   "source": [
    "### Auto Differentiation\n",
    "\n",
    "Auto differentiation is one of the most important feature Symbol differs to NDArray. We can use the method `grad` to obtain the symbol for calculating the gradient. "
   ]
  },
  {
   "cell_type": "code",
   "execution_count": 7,
   "metadata": {
    "collapsed": false
   },
   "outputs": [
    {
     "name": "stdout",
     "output_type": "stream",
     "text": [
      "['_plus0_0_grad', 'a', 'b']\n",
      "['_plus0_backward_lhs']\n",
      "[[ 5.  5.  5.  5.]\n",
      " [ 5.  5.  5.  5.]\n",
      " [ 5.  5.  5.  5.]]\n"
     ]
    }
   ],
   "source": [
    "# FIX ME\n",
    "x = c.grad(wrt=('a'))\n",
    "print x.list_arguments()\n",
    "print x.list_outputs()\n",
    "\n",
    "ex2 = x.bind(ctx=mx.cpu(), args={c.name+'_0_grad': mx.nd.ones([3,4])*5, \n",
    "                                 'a': mx.nd.ones([3,4])*2,\n",
    "                                 'b' : mx.nd.ones([3,4])*3})\n",
    "ex2.forward()\n",
    "print ex2.outputs[0].asnumpy()"
   ]
  },
  {
   "cell_type": "markdown",
   "metadata": {},
   "source": [
    "## Relations to NDArray\n",
    "\n",
    "As can be seen now, both Symbol and NDArray provide multi-dimensional array operations, such as `c=a+b` in MXNet. Sometimes users are confused which way to use. We briefly clarify the difference here, more detailed explanation are available [here](http://mxnet.readthedocs.io/en/latest/system/program_model.html). \n",
    "\n",
    "The `NDArray` provides an imperative programming alike interface, in which the computations are evaluated sentence by sentence. While `Symbol` is closer to declarative programming, in which we first declare the computation, and then evaluate with data. Examples in this category include regular expression and SQL.\n",
    "\n",
    "The pros for `NDArray`:\n",
    "- straightforward\n",
    "- easy to work with other language features (for loop, if-else condition, ..) and libraries (numpy, ..)\n",
    "- easy to step-by-step debug\n",
    "\n",
    "The pros for `Symbol`:\n",
    "- provides almost all functionalities of NDArray, such as +, \\*, sin, and reshape \n",
    "- provides a large number of neural network related operators such as Convolution, Activation, and BatchNorm\n",
    "- provides automatic differentiation \n",
    "- easy to construct and manipulate complex computations such as deep neural networks\n",
    "- easy to save, load, and visualization\n",
    "- easy for the backend to optimize the computation and memory usage\n",
    "\n",
    "We will show on the [mixed programming tutorial](./mixed.ipynb) how these two interfaces can be used together to develop a complete training program. This tutorial will focus on the usage of Symbol. "
   ]
  },
  {
   "cell_type": "markdown",
   "metadata": {},
   "source": [
    "## Basic Operations\n",
    "\n",
    "Besides the `+` operator we shown before, the other operators we demonstrated in [ndarray tutorial](./ndarray.ipynb) can be applied on Symbol as well. For example, we show the shape manipulation operators as below. \n",
    "\n",
    "### Shape Manipulation\n",
    "\n",
    "We first define some utility functions:"
   ]
  },
  {
   "cell_type": "code",
   "execution_count": 8,
   "metadata": {
    "collapsed": true
   },
   "outputs": [],
   "source": [
    "import numpy as np\n",
    "def show(msg, a):\n",
    "    \"\"\"print shape and data\"\"\"\n",
    "    print('===\\n%s\\nshape =%s, \\ndata =\\n%s' % (msg, a.shape, a.asnumpy()))\n",
    "def run(sym, data):\n",
    "    \"\"\"bind sym with data and then return the results\"\"\"\n",
    "    ex = sym.bind(ctx=mx.cpu(), args=dict(zip(sym.list_arguments(), data))) \n",
    "    ex.forward()\n",
    "    return ex.outputs[0] if len(ex.outputs) == 1 else ex.outputs"
   ]
  },
  {
   "cell_type": "markdown",
   "metadata": {},
   "source": [
    "#### Concat\n",
    "We can concatenate multiple symbols along a particular axis:"
   ]
  },
  {
   "cell_type": "code",
   "execution_count": 9,
   "metadata": {
    "collapsed": false
   },
   "outputs": [
    {
     "name": "stdout",
     "output_type": "stream",
     "text": [
      "===\n",
      "INPUT\n",
      "shape =(1L, 2L, 3L), \n",
      "data =\n",
      "[[[ 0.  1.  2.]\n",
      "  [ 3.  4.  5.]]]\n",
      "===\n",
      "CONCAT at dim = 0\n",
      "shape =(2L, 2L, 3L), \n",
      "data =\n",
      "[[[ 0.  1.  2.]\n",
      "  [ 3.  4.  5.]]\n",
      "\n",
      " [[ 0.  1.  2.]\n",
      "  [ 3.  4.  5.]]]\n",
      "===\n",
      "CONCAT at dim = 1\n",
      "shape =(1L, 4L, 3L), \n",
      "data =\n",
      "[[[ 0.  1.  2.]\n",
      "  [ 3.  4.  5.]\n",
      "  [ 0.  1.  2.]\n",
      "  [ 3.  4.  5.]]]\n",
      "===\n",
      "CONCAT at dim = 2\n",
      "shape =(1L, 2L, 6L), \n",
      "data =\n",
      "[[[ 0.  1.  2.  0.  1.  2.]\n",
      "  [ 3.  4.  5.  3.  4.  5.]]]\n"
     ]
    }
   ],
   "source": [
    "data = mx.nd.array(np.arange(6).reshape(1,2,3))\n",
    "show('INPUT', data)\n",
    "\n",
    "a = mx.sym.Variable('a')\n",
    "b = mx.sym.Variable('b')\n",
    "for dim in range(3):\n",
    "    cat = mx.sym.Concat(a, b, dim=dim)\n",
    "    show('CONCAT at dim = %d'%(dim), run(cat, (data, data)))\n",
    "    "
   ]
  },
  {
   "cell_type": "markdown",
   "metadata": {},
   "source": [
    "#### Reshape and Flatten\n",
    "A symbol can be reshaped. There is also a convenient method that reshapes a n-dimensional array into a 2-dimensional matrix, which is often used to feed convolution layer outputs into fully connected layers.  "
   ]
  },
  {
   "cell_type": "code",
   "execution_count": 10,
   "metadata": {
    "collapsed": false,
    "scrolled": true
   },
   "outputs": [
    {
     "name": "stdout",
     "output_type": "stream",
     "text": [
      "===\n",
      "INPUT\n",
      "shape =(2L, 2L, 3L), \n",
      "data =\n",
      "[[[  0.   1.   2.]\n",
      "  [  3.   4.   5.]]\n",
      "\n",
      " [[  6.   7.   8.]\n",
      "  [  9.  10.  11.]]]\n",
      "===\n",
      "FLATTEN\n",
      "shape =(2L, 6L), \n",
      "data =\n",
      "[[  0.   1.   2.   3.   4.   5.]\n",
      " [  6.   7.   8.   9.  10.  11.]]\n",
      "===\n",
      "RESHAPE\n",
      "shape =(2L, 6L), \n",
      "data =\n",
      "[[  0.   1.   2.   3.   4.   5.]\n",
      " [  6.   7.   8.   9.  10.  11.]]\n"
     ]
    }
   ],
   "source": [
    "data = mx.nd.array(np.arange(12).reshape(2,2,3))\n",
    "show('INPUT', data)\n",
    "\n",
    "a = mx.sym.Variable('a')\n",
    "flat = mx.sym.Flatten(a)\n",
    "show('FLATTEN', run(flat, (data,)))\n",
    "\n",
    "reshape = mx.sym.Reshape(a, shape=(2,6))\n",
    "show('RESHAPE', run(reshape, (data,)))"
   ]
  },
  {
   "cell_type": "markdown",
   "metadata": {},
   "source": [
    "#### Slice\n",
    "We can slice a Symbol evenly into n parts along a dimension, which returns a symbol has n outputs. "
   ]
  },
  {
   "cell_type": "code",
   "execution_count": 11,
   "metadata": {
    "collapsed": false,
    "scrolled": true
   },
   "outputs": [
    {
     "name": "stdout",
     "output_type": "stream",
     "text": [
      "===\n",
      "INPUT\n",
      "shape =(2L, 3L), \n",
      "data =\n",
      "[[ 0.  1.  2.]\n",
      " [ 3.  4.  5.]]\n",
      "===\n",
      "2nd slice along axis=0\n",
      "shape =(1L, 3L), \n",
      "data =\n",
      "[[ 3.  4.  5.]]\n",
      "===\n",
      "2nd slice along axis=1\n",
      "shape =(2L, 1L), \n",
      "data =\n",
      "[[ 1.]\n",
      " [ 4.]]\n"
     ]
    }
   ],
   "source": [
    "data = mx.nd.array(np.arange(6).reshape(2,3))\n",
    "show('INPUT', data)\n",
    "\n",
    "for dim in range(2):    \n",
    "    sliced = mx.sym.SliceChannel(a, axis=dim, num_outputs=data.shape[dim])\n",
    "    res = run(sliced, (data,))\n",
    "    show('2nd slice along axis=%d'%(dim), res[1])"
   ]
  },
  {
   "cell_type": "markdown",
   "metadata": {},
   "source": [
    "## More Composites \n",
    "\n",
    "We can composition complex Symbol easily. "
   ]
  },
  {
   "cell_type": "markdown",
   "metadata": {},
   "source": [
    "### Modulelized Construction for Deep Networks\n",
    "For deep networks, such as the Google Inception, constructing layer by layer is painful given the large number of layers. For these networks, we often modularize the construction. Take the Google Inception as an example, we can first define a factory function to chain the convolution layer, batch normalization layer, and Relu activation layer together:"
   ]
  },
  {
   "cell_type": "code",
   "execution_count": 12,
   "metadata": {
    "collapsed": false
   },
   "outputs": [
    {
     "data": {
      "image/svg+xml": [
       "<?xml version=\"1.0\" encoding=\"UTF-8\" standalone=\"no\"?>\n",
       "<!DOCTYPE svg PUBLIC \"-//W3C//DTD SVG 1.1//EN\"\n",
       " \"http://www.w3.org/Graphics/SVG/1.1/DTD/svg11.dtd\">\n",
       "<!-- Generated by graphviz version 2.36.0 (20140111.2315)\n",
       " -->\n",
       "<!-- Title: plot Pages: 1 -->\n",
       "<svg width=\"110pt\" height=\"396pt\"\n",
       " viewBox=\"0.00 0.00 110.00 396.00\" xmlns=\"http://www.w3.org/2000/svg\" xmlns:xlink=\"http://www.w3.org/1999/xlink\">\n",
       "<g id=\"graph0\" class=\"graph\" transform=\"scale(1 1) rotate(0) translate(4 392)\">\n",
       "<title>plot</title>\n",
       "<polygon fill=\"white\" stroke=\"none\" points=\"-4,4 -4,-392 106,-392 106,4 -4,4\"/>\n",
       "<!-- Previos Output -->\n",
       "<g id=\"node1\" class=\"node\"><title>Previos Output</title>\n",
       "<polygon fill=\"#8dd3c7\" stroke=\"black\" points=\"94,-58 -7.10543e-15,-58 -7.10543e-15,-3.55271e-15 94,-3.55271e-15 94,-58\"/>\n",
       "<text text-anchor=\"middle\" x=\"47\" y=\"-25.3\" font-family=\"Times,serif\" font-size=\"14.00\">Previos Output</text>\n",
       "</g>\n",
       "<!-- conv_None -->\n",
       "<g id=\"node2\" class=\"node\"><title>conv_None</title>\n",
       "<polygon fill=\"#fb8072\" stroke=\"black\" points=\"94,-168 -7.10543e-15,-168 -7.10543e-15,-110 94,-110 94,-168\"/>\n",
       "<text text-anchor=\"middle\" x=\"47\" y=\"-142.8\" font-family=\"Times,serif\" font-size=\"14.00\">Convolution</text>\n",
       "<text text-anchor=\"middle\" x=\"47\" y=\"-127.8\" font-family=\"Times,serif\" font-size=\"14.00\">7x7/2, 64</text>\n",
       "</g>\n",
       "<!-- conv_None&#45;&gt;Previos Output -->\n",
       "<g id=\"edge1\" class=\"edge\"><title>conv_None&#45;&gt;Previos Output</title>\n",
       "<path fill=\"none\" stroke=\"black\" d=\"M47,-99.8131C47,-86.1516 47,-71.0092 47,-58.3283\"/>\n",
       "<polygon fill=\"black\" stroke=\"black\" points=\"47,-109.906 42.5001,-99.9062 47,-104.906 47.0001,-99.9062 47.0001,-99.9062 47.0001,-99.9062 47,-104.906 51.5001,-99.9062 47,-109.906 47,-109.906\"/>\n",
       "<text text-anchor=\"middle\" x=\"71\" y=\"-80.3\" font-family=\"Times,serif\" font-size=\"14.00\">3x28x28</text>\n",
       "</g>\n",
       "<!-- bn_None -->\n",
       "<g id=\"node3\" class=\"node\"><title>bn_None</title>\n",
       "<polygon fill=\"#bebada\" stroke=\"black\" points=\"94,-278 -7.10543e-15,-278 -7.10543e-15,-220 94,-220 94,-278\"/>\n",
       "<text text-anchor=\"middle\" x=\"47\" y=\"-245.3\" font-family=\"Times,serif\" font-size=\"14.00\">BatchNorm</text>\n",
       "</g>\n",
       "<!-- bn_None&#45;&gt;conv_None -->\n",
       "<g id=\"edge2\" class=\"edge\"><title>bn_None&#45;&gt;conv_None</title>\n",
       "<path fill=\"none\" stroke=\"black\" d=\"M47,-209.813C47,-196.152 47,-181.009 47,-168.328\"/>\n",
       "<polygon fill=\"black\" stroke=\"black\" points=\"47,-219.906 42.5001,-209.906 47,-214.906 47.0001,-209.906 47.0001,-209.906 47.0001,-209.906 47,-214.906 51.5001,-209.906 47,-219.906 47,-219.906\"/>\n",
       "<text text-anchor=\"middle\" x=\"74.5\" y=\"-190.3\" font-family=\"Times,serif\" font-size=\"14.00\">64x11x11</text>\n",
       "</g>\n",
       "<!-- relu_None -->\n",
       "<g id=\"node4\" class=\"node\"><title>relu_None</title>\n",
       "<polygon fill=\"#ffffb3\" stroke=\"black\" points=\"94,-388 -7.10543e-15,-388 -7.10543e-15,-330 94,-330 94,-388\"/>\n",
       "<text text-anchor=\"middle\" x=\"47\" y=\"-362.8\" font-family=\"Times,serif\" font-size=\"14.00\">Activation</text>\n",
       "<text text-anchor=\"middle\" x=\"47\" y=\"-347.8\" font-family=\"Times,serif\" font-size=\"14.00\">relu</text>\n",
       "</g>\n",
       "<!-- relu_None&#45;&gt;bn_None -->\n",
       "<g id=\"edge3\" class=\"edge\"><title>relu_None&#45;&gt;bn_None</title>\n",
       "<path fill=\"none\" stroke=\"black\" d=\"M47,-319.813C47,-306.152 47,-291.009 47,-278.328\"/>\n",
       "<polygon fill=\"black\" stroke=\"black\" points=\"47,-329.906 42.5001,-319.906 47,-324.906 47.0001,-319.906 47.0001,-319.906 47.0001,-319.906 47,-324.906 51.5001,-319.906 47,-329.906 47,-329.906\"/>\n",
       "<text text-anchor=\"middle\" x=\"74.5\" y=\"-300.3\" font-family=\"Times,serif\" font-size=\"14.00\">64x11x11</text>\n",
       "</g>\n",
       "</g>\n",
       "</svg>\n"
      ],
      "text/plain": [
       "<graphviz.dot.Digraph at 0x7fae7926c290>"
      ]
     },
     "execution_count": 12,
     "metadata": {},
     "output_type": "execute_result"
    }
   ],
   "source": [
    "def ConvFactory(data, num_filter, kernel, stride=(1,1), pad=(0, 0), name=None, suffix=''):\n",
    "    conv = mx.symbol.Convolution(data=data, num_filter=num_filter, kernel=kernel, stride=stride, pad=pad, name='conv_%s%s' %(name, suffix))\n",
    "    bn = mx.symbol.BatchNorm(data=conv, name='bn_%s%s' %(name, suffix))\n",
    "    act = mx.symbol.Activation(data=bn, act_type='relu', name='relu_%s%s' %(name, suffix))\n",
    "    return act\n",
    "prev = mx.symbol.Variable(name=\"Previos Output\")\n",
    "conv_comp = ConvFactory(data=prev, num_filter=64, kernel=(7,7), stride=(2, 2))\n",
    "shape = {\"Previos Output\" : (128, 3, 28, 28)}\n",
    "mx.viz.plot_network(symbol=conv_comp, shape=shape)"
   ]
  },
  {
   "cell_type": "markdown",
   "metadata": {},
   "source": [
    "Then we define a function that constructs an Inception module based on `ConvFactory`"
   ]
  },
  {
   "cell_type": "code",
   "execution_count": 13,
   "metadata": {
    "collapsed": false
   },
   "outputs": [
    {
     "data": {
      "image/svg+xml": [
       "<?xml version=\"1.0\" encoding=\"UTF-8\" standalone=\"no\"?>\n",
       "<!DOCTYPE svg PUBLIC \"-//W3C//DTD SVG 1.1//EN\"\n",
       " \"http://www.w3.org/Graphics/SVG/1.1/DTD/svg11.dtd\">\n",
       "<!-- Generated by graphviz version 2.36.0 (20140111.2315)\n",
       " -->\n",
       "<!-- Title: plot Pages: 1 -->\n",
       "<svg width=\"454pt\" height=\"1376pt\"\n",
       " viewBox=\"0.00 0.00 454.00 1376.00\" xmlns=\"http://www.w3.org/2000/svg\" xmlns:xlink=\"http://www.w3.org/1999/xlink\">\n",
       "<g id=\"graph0\" class=\"graph\" transform=\"scale(1 1) rotate(0) translate(4 1372)\">\n",
       "<title>plot</title>\n",
       "<polygon fill=\"white\" stroke=\"none\" points=\"-4,4 -4,-1372 450,-1372 450,4 -4,4\"/>\n",
       "<!-- Previos Output -->\n",
       "<g id=\"node1\" class=\"node\"><title>Previos Output</title>\n",
       "<polygon fill=\"#8dd3c7\" stroke=\"black\" points=\"236,-58 142,-58 142,-3.55271e-15 236,-3.55271e-15 236,-58\"/>\n",
       "<text text-anchor=\"middle\" x=\"189\" y=\"-25.3\" font-family=\"Times,serif\" font-size=\"14.00\">Previos Output</text>\n",
       "</g>\n",
       "<!-- conv_in3a_1x1 -->\n",
       "<g id=\"node2\" class=\"node\"><title>conv_in3a_1x1</title>\n",
       "<polygon fill=\"#fb8072\" stroke=\"black\" points=\"99,-878 5,-878 5,-820 99,-820 99,-878\"/>\n",
       "<text text-anchor=\"middle\" x=\"52\" y=\"-852.8\" font-family=\"Times,serif\" font-size=\"14.00\">Convolution</text>\n",
       "<text text-anchor=\"middle\" x=\"52\" y=\"-837.8\" font-family=\"Times,serif\" font-size=\"14.00\">1x1/1, 64</text>\n",
       "</g>\n",
       "<!-- conv_in3a_1x1&#45;&gt;Previos Output -->\n",
       "<g id=\"edge1\" class=\"edge\"><title>conv_in3a_1x1&#45;&gt;Previos Output</title>\n",
       "<path fill=\"none\" stroke=\"black\" d=\"M55.9633,-809.703C58.756,-779.421 62,-736.055 62,-698 62,-698 62,-698 62,-138 62,-94.5853 105.602,-64.9684 141.71,-47.8852\"/>\n",
       "<polygon fill=\"black\" stroke=\"black\" points=\"55.0003,-819.838 51.4664,-809.457 55.4733,-814.861 55.9462,-809.883 55.9462,-809.883 55.9462,-809.883 55.4733,-814.861 60.4261,-810.309 55.0003,-819.838 55.0003,-819.838\"/>\n",
       "<text text-anchor=\"middle\" x=\"86\" y=\"-431.3\" font-family=\"Times,serif\" font-size=\"14.00\">3x28x28</text>\n",
       "</g>\n",
       "<!-- bn_in3a_1x1 -->\n",
       "<g id=\"node3\" class=\"node\"><title>bn_in3a_1x1</title>\n",
       "<polygon fill=\"#bebada\" stroke=\"black\" points=\"94,-1030 -7.10543e-15,-1030 -7.10543e-15,-972 94,-972 94,-1030\"/>\n",
       "<text text-anchor=\"middle\" x=\"47\" y=\"-997.3\" font-family=\"Times,serif\" font-size=\"14.00\">BatchNorm</text>\n",
       "</g>\n",
       "<!-- bn_in3a_1x1&#45;&gt;conv_in3a_1x1 -->\n",
       "<g id=\"edge2\" class=\"edge\"><title>bn_in3a_1x1&#45;&gt;conv_in3a_1x1</title>\n",
       "<path fill=\"none\" stroke=\"black\" d=\"M48.2831,-961.507C49.1516,-935.451 50.2793,-901.621 51.0638,-878.087\"/>\n",
       "<polygon fill=\"black\" stroke=\"black\" points=\"47.9405,-971.786 43.7762,-961.642 48.1071,-966.789 48.2737,-961.792 48.2737,-961.792 48.2737,-961.792 48.1071,-966.789 52.7712,-961.942 47.9405,-971.786 47.9405,-971.786\"/>\n",
       "<text text-anchor=\"middle\" x=\"78.5\" y=\"-921.3\" font-family=\"Times,serif\" font-size=\"14.00\">64x28x28</text>\n",
       "</g>\n",
       "<!-- relu_in3a_1x1 -->\n",
       "<g id=\"node4\" class=\"node\"><title>relu_in3a_1x1</title>\n",
       "<polygon fill=\"#ffffb3\" stroke=\"black\" points=\"116,-1182 22,-1182 22,-1124 116,-1124 116,-1182\"/>\n",
       "<text text-anchor=\"middle\" x=\"69\" y=\"-1156.8\" font-family=\"Times,serif\" font-size=\"14.00\">Activation</text>\n",
       "<text text-anchor=\"middle\" x=\"69\" y=\"-1141.8\" font-family=\"Times,serif\" font-size=\"14.00\">relu</text>\n",
       "</g>\n",
       "<!-- relu_in3a_1x1&#45;&gt;bn_in3a_1x1 -->\n",
       "<g id=\"edge3\" class=\"edge\"><title>relu_in3a_1x1&#45;&gt;bn_in3a_1x1</title>\n",
       "<path fill=\"none\" stroke=\"black\" d=\"M57.6921,-1114.13C57.0611,-1111.39 56.4871,-1108.66 56,-1106 51.3706,-1080.69 49.1078,-1051.46 48.0106,-1030.44\"/>\n",
       "<polygon fill=\"black\" stroke=\"black\" points=\"60.1724,-1123.98 53.3655,-1115.38 58.9508,-1119.13 57.7292,-1114.28 57.7292,-1114.28 57.7292,-1114.28 58.9508,-1119.13 62.0928,-1113.18 60.1724,-1123.98 60.1724,-1123.98\"/>\n",
       "<text text-anchor=\"middle\" x=\"83.5\" y=\"-1073.3\" font-family=\"Times,serif\" font-size=\"14.00\">64x28x28</text>\n",
       "</g>\n",
       "<!-- conv_in3a_3x3_reduce -->\n",
       "<g id=\"node5\" class=\"node\"><title>conv_in3a_3x3_reduce</title>\n",
       "<polygon fill=\"#fb8072\" stroke=\"black\" points=\"214,-464 120,-464 120,-406 214,-406 214,-464\"/>\n",
       "<text text-anchor=\"middle\" x=\"167\" y=\"-438.8\" font-family=\"Times,serif\" font-size=\"14.00\">Convolution</text>\n",
       "<text text-anchor=\"middle\" x=\"167\" y=\"-423.8\" font-family=\"Times,serif\" font-size=\"14.00\">1x1/1, 64</text>\n",
       "</g>\n",
       "<!-- conv_in3a_3x3_reduce&#45;&gt;Previos Output -->\n",
       "<g id=\"edge4\" class=\"edge\"><title>conv_in3a_3x3_reduce&#45;&gt;Previos Output</title>\n",
       "<path fill=\"none\" stroke=\"black\" d=\"M167,-395.747C167,-370.079 167,-335.51 167,-305 167,-305 167,-305 167,-138 167,-110.446 173.961,-79.7179 180.052,-58.1054\"/>\n",
       "<polygon fill=\"black\" stroke=\"black\" points=\"167,-405.816 162.5,-395.815 167,-400.816 167,-395.816 167,-395.816 167,-395.816 167,-400.816 171.5,-395.816 167,-405.816 167,-405.816\"/>\n",
       "<text text-anchor=\"middle\" x=\"191\" y=\"-245.3\" font-family=\"Times,serif\" font-size=\"14.00\">3x28x28</text>\n",
       "</g>\n",
       "<!-- bn_in3a_3x3_reduce -->\n",
       "<g id=\"node6\" class=\"node\"><title>bn_in3a_3x3_reduce</title>\n",
       "<polygon fill=\"#bebada\" stroke=\"black\" points=\"214,-650 120,-650 120,-592 214,-592 214,-650\"/>\n",
       "<text text-anchor=\"middle\" x=\"167\" y=\"-617.3\" font-family=\"Times,serif\" font-size=\"14.00\">BatchNorm</text>\n",
       "</g>\n",
       "<!-- bn_in3a_3x3_reduce&#45;&gt;conv_in3a_3x3_reduce -->\n",
       "<g id=\"edge5\" class=\"edge\"><title>bn_in3a_3x3_reduce&#45;&gt;conv_in3a_3x3_reduce</title>\n",
       "<path fill=\"none\" stroke=\"black\" d=\"M167,-581.315C167,-546.245 167,-495.392 167,-464.077\"/>\n",
       "<polygon fill=\"black\" stroke=\"black\" points=\"167,-591.653 162.5,-581.653 167,-586.653 167,-581.653 167,-581.653 167,-581.653 167,-586.653 171.5,-581.653 167,-591.653 167,-591.653\"/>\n",
       "<text text-anchor=\"middle\" x=\"194.5\" y=\"-562.3\" font-family=\"Times,serif\" font-size=\"14.00\">64x28x28</text>\n",
       "</g>\n",
       "<!-- relu_in3a_3x3_reduce -->\n",
       "<g id=\"node7\" class=\"node\"><title>relu_in3a_3x3_reduce</title>\n",
       "<polygon fill=\"#ffffb3\" stroke=\"black\" points=\"214,-802 120,-802 120,-744 214,-744 214,-802\"/>\n",
       "<text text-anchor=\"middle\" x=\"167\" y=\"-776.8\" font-family=\"Times,serif\" font-size=\"14.00\">Activation</text>\n",
       "<text text-anchor=\"middle\" x=\"167\" y=\"-761.8\" font-family=\"Times,serif\" font-size=\"14.00\">relu</text>\n",
       "</g>\n",
       "<!-- relu_in3a_3x3_reduce&#45;&gt;bn_in3a_3x3_reduce -->\n",
       "<g id=\"edge6\" class=\"edge\"><title>relu_in3a_3x3_reduce&#45;&gt;bn_in3a_3x3_reduce</title>\n",
       "<path fill=\"none\" stroke=\"black\" d=\"M167,-733.507C167,-707.451 167,-673.621 167,-650.087\"/>\n",
       "<polygon fill=\"black\" stroke=\"black\" points=\"167,-743.786 162.5,-733.786 167,-738.786 167,-733.786 167,-733.786 167,-733.786 167,-738.786 171.5,-733.786 167,-743.786 167,-743.786\"/>\n",
       "<text text-anchor=\"middle\" x=\"194.5\" y=\"-693.3\" font-family=\"Times,serif\" font-size=\"14.00\">64x28x28</text>\n",
       "</g>\n",
       "<!-- conv_in3a_3x3 -->\n",
       "<g id=\"node8\" class=\"node\"><title>conv_in3a_3x3</title>\n",
       "<polygon fill=\"#fb8072\" stroke=\"black\" points=\"214,-954 120,-954 120,-896 214,-896 214,-954\"/>\n",
       "<text text-anchor=\"middle\" x=\"167\" y=\"-928.8\" font-family=\"Times,serif\" font-size=\"14.00\">Convolution</text>\n",
       "<text text-anchor=\"middle\" x=\"167\" y=\"-913.8\" font-family=\"Times,serif\" font-size=\"14.00\">3x3/1, 64</text>\n",
       "</g>\n",
       "<!-- conv_in3a_3x3&#45;&gt;relu_in3a_3x3_reduce -->\n",
       "<g id=\"edge7\" class=\"edge\"><title>conv_in3a_3x3&#45;&gt;relu_in3a_3x3_reduce</title>\n",
       "<path fill=\"none\" stroke=\"black\" d=\"M167,-885.507C167,-859.451 167,-825.621 167,-802.087\"/>\n",
       "<polygon fill=\"black\" stroke=\"black\" points=\"167,-895.786 162.5,-885.786 167,-890.786 167,-885.786 167,-885.786 167,-885.786 167,-890.786 171.5,-885.786 167,-895.786 167,-895.786\"/>\n",
       "<text text-anchor=\"middle\" x=\"194.5\" y=\"-845.3\" font-family=\"Times,serif\" font-size=\"14.00\">64x28x28</text>\n",
       "</g>\n",
       "<!-- bn_in3a_3x3 -->\n",
       "<g id=\"node9\" class=\"node\"><title>bn_in3a_3x3</title>\n",
       "<polygon fill=\"#bebada\" stroke=\"black\" points=\"214,-1106 120,-1106 120,-1048 214,-1048 214,-1106\"/>\n",
       "<text text-anchor=\"middle\" x=\"167\" y=\"-1073.3\" font-family=\"Times,serif\" font-size=\"14.00\">BatchNorm</text>\n",
       "</g>\n",
       "<!-- bn_in3a_3x3&#45;&gt;conv_in3a_3x3 -->\n",
       "<g id=\"edge8\" class=\"edge\"><title>bn_in3a_3x3&#45;&gt;conv_in3a_3x3</title>\n",
       "<path fill=\"none\" stroke=\"black\" d=\"M167,-1037.51C167,-1011.45 167,-977.621 167,-954.087\"/>\n",
       "<polygon fill=\"black\" stroke=\"black\" points=\"167,-1047.79 162.5,-1037.79 167,-1042.79 167,-1037.79 167,-1037.79 167,-1037.79 167,-1042.79 171.5,-1037.79 167,-1047.79 167,-1047.79\"/>\n",
       "<text text-anchor=\"middle\" x=\"194.5\" y=\"-997.3\" font-family=\"Times,serif\" font-size=\"14.00\">64x28x28</text>\n",
       "</g>\n",
       "<!-- relu_in3a_3x3 -->\n",
       "<g id=\"node10\" class=\"node\"><title>relu_in3a_3x3</title>\n",
       "<polygon fill=\"#ffffb3\" stroke=\"black\" points=\"214,-1258 120,-1258 120,-1200 214,-1200 214,-1258\"/>\n",
       "<text text-anchor=\"middle\" x=\"167\" y=\"-1232.8\" font-family=\"Times,serif\" font-size=\"14.00\">Activation</text>\n",
       "<text text-anchor=\"middle\" x=\"167\" y=\"-1217.8\" font-family=\"Times,serif\" font-size=\"14.00\">relu</text>\n",
       "</g>\n",
       "<!-- relu_in3a_3x3&#45;&gt;bn_in3a_3x3 -->\n",
       "<g id=\"edge9\" class=\"edge\"><title>relu_in3a_3x3&#45;&gt;bn_in3a_3x3</title>\n",
       "<path fill=\"none\" stroke=\"black\" d=\"M167,-1189.51C167,-1163.45 167,-1129.62 167,-1106.09\"/>\n",
       "<polygon fill=\"black\" stroke=\"black\" points=\"167,-1199.79 162.5,-1189.79 167,-1194.79 167,-1189.79 167,-1189.79 167,-1189.79 167,-1194.79 171.5,-1189.79 167,-1199.79 167,-1199.79\"/>\n",
       "<text text-anchor=\"middle\" x=\"194.5\" y=\"-1149.3\" font-family=\"Times,serif\" font-size=\"14.00\">64x28x28</text>\n",
       "</g>\n",
       "<!-- conv_in3a_double_3x3_reduce -->\n",
       "<g id=\"node11\" class=\"node\"><title>conv_in3a_double_3x3_reduce</title>\n",
       "<polygon fill=\"#fb8072\" stroke=\"black\" points=\"299,-168 205,-168 205,-110 299,-110 299,-168\"/>\n",
       "<text text-anchor=\"middle\" x=\"252\" y=\"-142.8\" font-family=\"Times,serif\" font-size=\"14.00\">Convolution</text>\n",
       "<text text-anchor=\"middle\" x=\"252\" y=\"-127.8\" font-family=\"Times,serif\" font-size=\"14.00\">1x1/1, 64</text>\n",
       "</g>\n",
       "<!-- conv_in3a_double_3x3_reduce&#45;&gt;Previos Output -->\n",
       "<g id=\"edge10\" class=\"edge\"><title>conv_in3a_double_3x3_reduce&#45;&gt;Previos Output</title>\n",
       "<path fill=\"none\" stroke=\"black\" d=\"M230.425,-101.015C222.276,-87.0445 213.14,-71.3822 205.525,-58.3283\"/>\n",
       "<polygon fill=\"black\" stroke=\"black\" points=\"235.612,-109.906 226.686,-103.536 233.093,-105.587 230.573,-101.268 230.573,-101.268 230.573,-101.268 233.093,-105.587 234.46,-99.001 235.612,-109.906 235.612,-109.906\"/>\n",
       "<text text-anchor=\"middle\" x=\"248\" y=\"-80.3\" font-family=\"Times,serif\" font-size=\"14.00\">3x28x28</text>\n",
       "</g>\n",
       "<!-- bn_in3a_double_3x3_reduce -->\n",
       "<g id=\"node12\" class=\"node\"><title>bn_in3a_double_3x3_reduce</title>\n",
       "<polygon fill=\"#bebada\" stroke=\"black\" points=\"327,-278 233,-278 233,-220 327,-220 327,-278\"/>\n",
       "<text text-anchor=\"middle\" x=\"280\" y=\"-245.3\" font-family=\"Times,serif\" font-size=\"14.00\">BatchNorm</text>\n",
       "</g>\n",
       "<!-- bn_in3a_double_3x3_reduce&#45;&gt;conv_in3a_double_3x3_reduce -->\n",
       "<g id=\"edge11\" class=\"edge\"><title>bn_in3a_double_3x3_reduce&#45;&gt;conv_in3a_double_3x3_reduce</title>\n",
       "<path fill=\"none\" stroke=\"black\" d=\"M270.204,-210.215C266.635,-196.449 262.664,-181.134 259.344,-168.328\"/>\n",
       "<polygon fill=\"black\" stroke=\"black\" points=\"272.716,-219.906 265.851,-211.356 271.462,-215.066 270.207,-210.226 270.207,-210.226 270.207,-210.226 271.462,-215.066 274.563,-209.097 272.716,-219.906 272.716,-219.906\"/>\n",
       "<text text-anchor=\"middle\" x=\"294.5\" y=\"-190.3\" font-family=\"Times,serif\" font-size=\"14.00\">64x28x28</text>\n",
       "</g>\n",
       "<!-- relu_in3a_double_3x3_reduce -->\n",
       "<g id=\"node13\" class=\"node\"><title>relu_in3a_double_3x3_reduce</title>\n",
       "<polygon fill=\"#ffffb3\" stroke=\"black\" points=\"327,-388 233,-388 233,-330 327,-330 327,-388\"/>\n",
       "<text text-anchor=\"middle\" x=\"280\" y=\"-362.8\" font-family=\"Times,serif\" font-size=\"14.00\">Activation</text>\n",
       "<text text-anchor=\"middle\" x=\"280\" y=\"-347.8\" font-family=\"Times,serif\" font-size=\"14.00\">relu</text>\n",
       "</g>\n",
       "<!-- relu_in3a_double_3x3_reduce&#45;&gt;bn_in3a_double_3x3_reduce -->\n",
       "<g id=\"edge12\" class=\"edge\"><title>relu_in3a_double_3x3_reduce&#45;&gt;bn_in3a_double_3x3_reduce</title>\n",
       "<path fill=\"none\" stroke=\"black\" d=\"M280,-319.813C280,-306.152 280,-291.009 280,-278.328\"/>\n",
       "<polygon fill=\"black\" stroke=\"black\" points=\"280,-329.906 275.5,-319.906 280,-324.906 280,-319.906 280,-319.906 280,-319.906 280,-324.906 284.5,-319.906 280,-329.906 280,-329.906\"/>\n",
       "<text text-anchor=\"middle\" x=\"307.5\" y=\"-300.3\" font-family=\"Times,serif\" font-size=\"14.00\">64x28x28</text>\n",
       "</g>\n",
       "<!-- conv_in3a_double_3x3_0 -->\n",
       "<g id=\"node14\" class=\"node\"><title>conv_in3a_double_3x3_0</title>\n",
       "<polygon fill=\"#fb8072\" stroke=\"black\" points=\"326,-540 232,-540 232,-482 326,-482 326,-540\"/>\n",
       "<text text-anchor=\"middle\" x=\"279\" y=\"-514.8\" font-family=\"Times,serif\" font-size=\"14.00\">Convolution</text>\n",
       "<text text-anchor=\"middle\" x=\"279\" y=\"-499.8\" font-family=\"Times,serif\" font-size=\"14.00\">3x3/1, 96</text>\n",
       "</g>\n",
       "<!-- conv_in3a_double_3x3_0&#45;&gt;relu_in3a_double_3x3_reduce -->\n",
       "<g id=\"edge13\" class=\"edge\"><title>conv_in3a_double_3x3_0&#45;&gt;relu_in3a_double_3x3_reduce</title>\n",
       "<path fill=\"none\" stroke=\"black\" d=\"M279.257,-471.507C279.43,-445.451 279.656,-411.621 279.813,-388.087\"/>\n",
       "<polygon fill=\"black\" stroke=\"black\" points=\"279.188,-481.786 274.755,-471.756 279.221,-476.786 279.255,-471.786 279.255,-471.786 279.255,-471.786 279.221,-476.786 283.755,-471.816 279.188,-481.786 279.188,-481.786\"/>\n",
       "<text text-anchor=\"middle\" x=\"306.5\" y=\"-431.3\" font-family=\"Times,serif\" font-size=\"14.00\">64x28x28</text>\n",
       "</g>\n",
       "<!-- bn_in3a_double_3x3_0 -->\n",
       "<g id=\"node15\" class=\"node\"><title>bn_in3a_double_3x3_0</title>\n",
       "<polygon fill=\"#bebada\" stroke=\"black\" points=\"326,-650 232,-650 232,-592 326,-592 326,-650\"/>\n",
       "<text text-anchor=\"middle\" x=\"279\" y=\"-617.3\" font-family=\"Times,serif\" font-size=\"14.00\">BatchNorm</text>\n",
       "</g>\n",
       "<!-- bn_in3a_double_3x3_0&#45;&gt;conv_in3a_double_3x3_0 -->\n",
       "<g id=\"edge14\" class=\"edge\"><title>bn_in3a_double_3x3_0&#45;&gt;conv_in3a_double_3x3_0</title>\n",
       "<path fill=\"none\" stroke=\"black\" d=\"M279,-581.813C279,-568.152 279,-553.009 279,-540.328\"/>\n",
       "<polygon fill=\"black\" stroke=\"black\" points=\"279,-591.906 274.5,-581.906 279,-586.906 279,-581.906 279,-581.906 279,-581.906 279,-586.906 283.5,-581.906 279,-591.906 279,-591.906\"/>\n",
       "<text text-anchor=\"middle\" x=\"306.5\" y=\"-562.3\" font-family=\"Times,serif\" font-size=\"14.00\">96x28x28</text>\n",
       "</g>\n",
       "<!-- relu_in3a_double_3x3_0 -->\n",
       "<g id=\"node16\" class=\"node\"><title>relu_in3a_double_3x3_0</title>\n",
       "<polygon fill=\"#ffffb3\" stroke=\"black\" points=\"326,-802 232,-802 232,-744 326,-744 326,-802\"/>\n",
       "<text text-anchor=\"middle\" x=\"279\" y=\"-776.8\" font-family=\"Times,serif\" font-size=\"14.00\">Activation</text>\n",
       "<text text-anchor=\"middle\" x=\"279\" y=\"-761.8\" font-family=\"Times,serif\" font-size=\"14.00\">relu</text>\n",
       "</g>\n",
       "<!-- relu_in3a_double_3x3_0&#45;&gt;bn_in3a_double_3x3_0 -->\n",
       "<g id=\"edge15\" class=\"edge\"><title>relu_in3a_double_3x3_0&#45;&gt;bn_in3a_double_3x3_0</title>\n",
       "<path fill=\"none\" stroke=\"black\" d=\"M276.314,-733.731C276.189,-731.116 276.082,-728.52 276,-726 275.161,-700.236 275.161,-693.764 276,-668 276.188,-662.241 276.507,-656.083 276.869,-650.205\"/>\n",
       "<polygon fill=\"black\" stroke=\"black\" points=\"276.869,-743.795 271.826,-734.058 276.594,-738.802 276.319,-733.81 276.319,-733.81 276.319,-733.81 276.594,-738.802 280.812,-733.562 276.869,-743.795 276.869,-743.795\"/>\n",
       "<text text-anchor=\"middle\" x=\"303.5\" y=\"-693.3\" font-family=\"Times,serif\" font-size=\"14.00\">96x28x28</text>\n",
       "</g>\n",
       "<!-- conv_in3a_double_3x3_1 -->\n",
       "<g id=\"node17\" class=\"node\"><title>conv_in3a_double_3x3_1</title>\n",
       "<polygon fill=\"#fb8072\" stroke=\"black\" points=\"326,-954 232,-954 232,-896 326,-896 326,-954\"/>\n",
       "<text text-anchor=\"middle\" x=\"279\" y=\"-928.8\" font-family=\"Times,serif\" font-size=\"14.00\">Convolution</text>\n",
       "<text text-anchor=\"middle\" x=\"279\" y=\"-913.8\" font-family=\"Times,serif\" font-size=\"14.00\">3x3/1, 96</text>\n",
       "</g>\n",
       "<!-- conv_in3a_double_3x3_1&#45;&gt;relu_in3a_double_3x3_0 -->\n",
       "<g id=\"edge16\" class=\"edge\"><title>conv_in3a_double_3x3_1&#45;&gt;relu_in3a_double_3x3_0</title>\n",
       "<path fill=\"none\" stroke=\"black\" d=\"M279,-885.507C279,-859.451 279,-825.621 279,-802.087\"/>\n",
       "<polygon fill=\"black\" stroke=\"black\" points=\"279,-895.786 274.5,-885.786 279,-890.786 279,-885.786 279,-885.786 279,-885.786 279,-890.786 283.5,-885.786 279,-895.786 279,-895.786\"/>\n",
       "<text text-anchor=\"middle\" x=\"306.5\" y=\"-845.3\" font-family=\"Times,serif\" font-size=\"14.00\">96x28x28</text>\n",
       "</g>\n",
       "<!-- bn_in3a_double_3x3_1 -->\n",
       "<g id=\"node18\" class=\"node\"><title>bn_in3a_double_3x3_1</title>\n",
       "<polygon fill=\"#bebada\" stroke=\"black\" points=\"326,-1106 232,-1106 232,-1048 326,-1048 326,-1106\"/>\n",
       "<text text-anchor=\"middle\" x=\"279\" y=\"-1073.3\" font-family=\"Times,serif\" font-size=\"14.00\">BatchNorm</text>\n",
       "</g>\n",
       "<!-- bn_in3a_double_3x3_1&#45;&gt;conv_in3a_double_3x3_1 -->\n",
       "<g id=\"edge17\" class=\"edge\"><title>bn_in3a_double_3x3_1&#45;&gt;conv_in3a_double_3x3_1</title>\n",
       "<path fill=\"none\" stroke=\"black\" d=\"M279,-1037.51C279,-1011.45 279,-977.621 279,-954.087\"/>\n",
       "<polygon fill=\"black\" stroke=\"black\" points=\"279,-1047.79 274.5,-1037.79 279,-1042.79 279,-1037.79 279,-1037.79 279,-1037.79 279,-1042.79 283.5,-1037.79 279,-1047.79 279,-1047.79\"/>\n",
       "<text text-anchor=\"middle\" x=\"306.5\" y=\"-997.3\" font-family=\"Times,serif\" font-size=\"14.00\">96x28x28</text>\n",
       "</g>\n",
       "<!-- relu_in3a_double_3x3_1 -->\n",
       "<g id=\"node19\" class=\"node\"><title>relu_in3a_double_3x3_1</title>\n",
       "<polygon fill=\"#ffffb3\" stroke=\"black\" points=\"326,-1258 232,-1258 232,-1200 326,-1200 326,-1258\"/>\n",
       "<text text-anchor=\"middle\" x=\"279\" y=\"-1232.8\" font-family=\"Times,serif\" font-size=\"14.00\">Activation</text>\n",
       "<text text-anchor=\"middle\" x=\"279\" y=\"-1217.8\" font-family=\"Times,serif\" font-size=\"14.00\">relu</text>\n",
       "</g>\n",
       "<!-- relu_in3a_double_3x3_1&#45;&gt;bn_in3a_double_3x3_1 -->\n",
       "<g id=\"edge18\" class=\"edge\"><title>relu_in3a_double_3x3_1&#45;&gt;bn_in3a_double_3x3_1</title>\n",
       "<path fill=\"none\" stroke=\"black\" d=\"M279,-1189.51C279,-1163.45 279,-1129.62 279,-1106.09\"/>\n",
       "<polygon fill=\"black\" stroke=\"black\" points=\"279,-1199.79 274.5,-1189.79 279,-1194.79 279,-1189.79 279,-1189.79 279,-1189.79 279,-1194.79 283.5,-1189.79 279,-1199.79 279,-1199.79\"/>\n",
       "<text text-anchor=\"middle\" x=\"306.5\" y=\"-1149.3\" font-family=\"Times,serif\" font-size=\"14.00\">96x28x28</text>\n",
       "</g>\n",
       "<!-- avg_pool_in3a_pool -->\n",
       "<g id=\"node20\" class=\"node\"><title>avg_pool_in3a_pool</title>\n",
       "<polygon fill=\"#80b1d3\" stroke=\"black\" points=\"434,-726 340,-726 340,-668 434,-668 434,-726\"/>\n",
       "<text text-anchor=\"middle\" x=\"387\" y=\"-700.8\" font-family=\"Times,serif\" font-size=\"14.00\">Pooling</text>\n",
       "<text text-anchor=\"middle\" x=\"387\" y=\"-685.8\" font-family=\"Times,serif\" font-size=\"14.00\">avg, 3x3/1</text>\n",
       "</g>\n",
       "<!-- avg_pool_in3a_pool&#45;&gt;Previos Output -->\n",
       "<g id=\"edge19\" class=\"edge\"><title>avg_pool_in3a_pool&#45;&gt;Previos Output</title>\n",
       "<path fill=\"none\" stroke=\"black\" d=\"M382.03,-657.82C379.115,-632.182 376,-597.621 376,-567 376,-567 376,-567 376,-138 376,-73.5159 291.585,-46.9294 236.188,-36.4247\"/>\n",
       "<polygon fill=\"black\" stroke=\"black\" points=\"383.214,-667.874 377.575,-658.47 382.629,-662.909 382.044,-657.943 382.044,-657.943 382.044,-657.943 382.629,-662.909 386.513,-657.416 383.214,-667.874 383.214,-667.874\"/>\n",
       "<text text-anchor=\"middle\" x=\"400\" y=\"-355.3\" font-family=\"Times,serif\" font-size=\"14.00\">3x28x28</text>\n",
       "</g>\n",
       "<!-- conv_in3a_proj -->\n",
       "<g id=\"node21\" class=\"node\"><title>conv_in3a_proj</title>\n",
       "<polygon fill=\"#fb8072\" stroke=\"black\" points=\"438,-954 344,-954 344,-896 438,-896 438,-954\"/>\n",
       "<text text-anchor=\"middle\" x=\"391\" y=\"-928.8\" font-family=\"Times,serif\" font-size=\"14.00\">Convolution</text>\n",
       "<text text-anchor=\"middle\" x=\"391\" y=\"-913.8\" font-family=\"Times,serif\" font-size=\"14.00\">1x1/1, 32</text>\n",
       "</g>\n",
       "<!-- conv_in3a_proj&#45;&gt;avg_pool_in3a_pool -->\n",
       "<g id=\"edge20\" class=\"edge\"><title>conv_in3a_proj&#45;&gt;avg_pool_in3a_pool</title>\n",
       "<path fill=\"none\" stroke=\"black\" d=\"M390.324,-885.832C389.525,-840.644 388.212,-766.452 387.498,-726.165\"/>\n",
       "<polygon fill=\"black\" stroke=\"black\" points=\"390.501,-895.834 385.825,-885.915 390.413,-890.835 390.324,-885.835 390.324,-885.835 390.324,-885.835 390.413,-890.835 394.824,-885.756 390.501,-895.834 390.501,-895.834\"/>\n",
       "<text text-anchor=\"middle\" x=\"414\" y=\"-845.3\" font-family=\"Times,serif\" font-size=\"14.00\">3x28x28</text>\n",
       "</g>\n",
       "<!-- bn_in3a_proj -->\n",
       "<g id=\"node22\" class=\"node\"><title>bn_in3a_proj</title>\n",
       "<polygon fill=\"#bebada\" stroke=\"black\" points=\"438,-1106 344,-1106 344,-1048 438,-1048 438,-1106\"/>\n",
       "<text text-anchor=\"middle\" x=\"391\" y=\"-1073.3\" font-family=\"Times,serif\" font-size=\"14.00\">BatchNorm</text>\n",
       "</g>\n",
       "<!-- bn_in3a_proj&#45;&gt;conv_in3a_proj -->\n",
       "<g id=\"edge21\" class=\"edge\"><title>bn_in3a_proj&#45;&gt;conv_in3a_proj</title>\n",
       "<path fill=\"none\" stroke=\"black\" d=\"M391,-1037.51C391,-1011.45 391,-977.621 391,-954.087\"/>\n",
       "<polygon fill=\"black\" stroke=\"black\" points=\"391,-1047.79 386.5,-1037.79 391,-1042.79 391,-1037.79 391,-1037.79 391,-1037.79 391,-1042.79 395.5,-1037.79 391,-1047.79 391,-1047.79\"/>\n",
       "<text text-anchor=\"middle\" x=\"418.5\" y=\"-997.3\" font-family=\"Times,serif\" font-size=\"14.00\">32x28x28</text>\n",
       "</g>\n",
       "<!-- relu_in3a_proj -->\n",
       "<g id=\"node23\" class=\"node\"><title>relu_in3a_proj</title>\n",
       "<polygon fill=\"#ffffb3\" stroke=\"black\" points=\"438,-1258 344,-1258 344,-1200 438,-1200 438,-1258\"/>\n",
       "<text text-anchor=\"middle\" x=\"391\" y=\"-1232.8\" font-family=\"Times,serif\" font-size=\"14.00\">Activation</text>\n",
       "<text text-anchor=\"middle\" x=\"391\" y=\"-1217.8\" font-family=\"Times,serif\" font-size=\"14.00\">relu</text>\n",
       "</g>\n",
       "<!-- relu_in3a_proj&#45;&gt;bn_in3a_proj -->\n",
       "<g id=\"edge22\" class=\"edge\"><title>relu_in3a_proj&#45;&gt;bn_in3a_proj</title>\n",
       "<path fill=\"none\" stroke=\"black\" d=\"M391,-1189.51C391,-1163.45 391,-1129.62 391,-1106.09\"/>\n",
       "<polygon fill=\"black\" stroke=\"black\" points=\"391,-1199.79 386.5,-1189.79 391,-1194.79 391,-1189.79 391,-1189.79 391,-1189.79 391,-1194.79 395.5,-1189.79 391,-1199.79 391,-1199.79\"/>\n",
       "<text text-anchor=\"middle\" x=\"418.5\" y=\"-1149.3\" font-family=\"Times,serif\" font-size=\"14.00\">32x28x28</text>\n",
       "</g>\n",
       "<!-- ch_concat_in3a_chconcat -->\n",
       "<g id=\"node24\" class=\"node\"><title>ch_concat_in3a_chconcat</title>\n",
       "<polygon fill=\"#fdb462\" stroke=\"black\" points=\"275,-1368 181,-1368 181,-1310 275,-1310 275,-1368\"/>\n",
       "<text text-anchor=\"middle\" x=\"228\" y=\"-1335.3\" font-family=\"Times,serif\" font-size=\"14.00\">Concat</text>\n",
       "</g>\n",
       "<!-- ch_concat_in3a_chconcat&#45;&gt;relu_in3a_1x1 -->\n",
       "<g id=\"edge23\" class=\"edge\"><title>ch_concat_in3a_chconcat&#45;&gt;relu_in3a_1x1</title>\n",
       "<path fill=\"none\" stroke=\"black\" d=\"M171.222,-1321.65C154.673,-1314.67 137.659,-1305.04 125,-1292 95.1902,-1261.3 80.5188,-1212.62 73.8711,-1182.04\"/>\n",
       "<polygon fill=\"black\" stroke=\"black\" points=\"180.876,-1325.46 169.922,-1325.97 176.225,-1323.62 171.573,-1321.78 171.573,-1321.78 171.573,-1321.78 176.225,-1323.62 173.225,-1317.6 180.876,-1325.46 180.876,-1325.46\"/>\n",
       "<text text-anchor=\"middle\" x=\"152.5\" y=\"-1280.3\" font-family=\"Times,serif\" font-size=\"14.00\">64x28x28</text>\n",
       "</g>\n",
       "<!-- ch_concat_in3a_chconcat&#45;&gt;relu_in3a_3x3 -->\n",
       "<g id=\"edge24\" class=\"edge\"><title>ch_concat_in3a_chconcat&#45;&gt;relu_in3a_3x3</title>\n",
       "<path fill=\"none\" stroke=\"black\" d=\"M197.098,-1301.59C194.915,-1298.42 192.85,-1295.21 191,-1292 184.943,-1281.5 179.817,-1269.19 175.877,-1258.31\"/>\n",
       "<polygon fill=\"black\" stroke=\"black\" points=\"203.08,-1309.78 193.549,-1304.36 200.132,-1305.74 197.183,-1301.7 197.183,-1301.7 197.183,-1301.7 200.132,-1305.74 200.817,-1299.05 203.08,-1309.78 203.08,-1309.78\"/>\n",
       "<text text-anchor=\"middle\" x=\"218.5\" y=\"-1280.3\" font-family=\"Times,serif\" font-size=\"14.00\">64x28x28</text>\n",
       "</g>\n",
       "<!-- ch_concat_in3a_chconcat&#45;&gt;relu_in3a_double_3x3_1 -->\n",
       "<g id=\"edge25\" class=\"edge\"><title>ch_concat_in3a_chconcat&#45;&gt;relu_in3a_double_3x3_1</title>\n",
       "<path fill=\"none\" stroke=\"black\" d=\"M245.654,-1300.62C252.203,-1286.75 259.517,-1271.26 265.623,-1258.33\"/>\n",
       "<polygon fill=\"black\" stroke=\"black\" points=\"241.267,-1309.91 241.468,-1298.94 243.402,-1305.38 245.537,-1300.86 245.537,-1300.86 245.537,-1300.86 243.402,-1305.38 249.606,-1302.79 241.267,-1309.91 241.267,-1309.91\"/>\n",
       "<text text-anchor=\"middle\" x=\"283.5\" y=\"-1280.3\" font-family=\"Times,serif\" font-size=\"14.00\">96x28x28</text>\n",
       "</g>\n",
       "<!-- ch_concat_in3a_chconcat&#45;&gt;relu_in3a_proj -->\n",
       "<g id=\"edge26\" class=\"edge\"><title>ch_concat_in3a_chconcat&#45;&gt;relu_in3a_proj</title>\n",
       "<path fill=\"none\" stroke=\"black\" d=\"M284.149,-1310.41C294.619,-1304.68 305.307,-1298.42 315,-1292 330.329,-1281.84 346.25,-1269.22 359.536,-1258.02\"/>\n",
       "<polygon fill=\"black\" stroke=\"black\" points=\"275.035,-1315.3 281.721,-1306.61 279.441,-1312.94 283.848,-1310.57 283.848,-1310.57 283.848,-1310.57 279.441,-1312.94 285.975,-1314.54 275.035,-1315.3 275.035,-1315.3\"/>\n",
       "<text text-anchor=\"middle\" x=\"363.5\" y=\"-1280.3\" font-family=\"Times,serif\" font-size=\"14.00\">32x28x28</text>\n",
       "</g>\n",
       "</g>\n",
       "</svg>\n"
      ],
      "text/plain": [
       "<graphviz.dot.Digraph at 0x7fae7926ee10>"
      ]
     },
     "execution_count": 13,
     "metadata": {},
     "output_type": "execute_result"
    }
   ],
   "source": [
    "def InceptionFactoryA(data, num_1x1, num_3x3red, num_3x3, num_d3x3red, num_d3x3, pool, proj, name):\n",
    "    # 1x1\n",
    "    c1x1 = ConvFactory(data=data, num_filter=num_1x1, kernel=(1, 1), name=('%s_1x1' % name))\n",
    "    # 3x3 reduce + 3x3\n",
    "    c3x3r = ConvFactory(data=data, num_filter=num_3x3red, kernel=(1, 1), name=('%s_3x3' % name), suffix='_reduce')\n",
    "    c3x3 = ConvFactory(data=c3x3r, num_filter=num_3x3, kernel=(3, 3), pad=(1, 1), name=('%s_3x3' % name))\n",
    "    # double 3x3 reduce + double 3x3\n",
    "    cd3x3r = ConvFactory(data=data, num_filter=num_d3x3red, kernel=(1, 1), name=('%s_double_3x3' % name), suffix='_reduce')\n",
    "    cd3x3 = ConvFactory(data=cd3x3r, num_filter=num_d3x3, kernel=(3, 3), pad=(1, 1), name=('%s_double_3x3_0' % name))\n",
    "    cd3x3 = ConvFactory(data=cd3x3, num_filter=num_d3x3, kernel=(3, 3), pad=(1, 1), name=('%s_double_3x3_1' % name))\n",
    "    # pool + proj\n",
    "    pooling = mx.symbol.Pooling(data=data, kernel=(3, 3), stride=(1, 1), pad=(1, 1), pool_type=pool, name=('%s_pool_%s_pool' % (pool, name)))\n",
    "    cproj = ConvFactory(data=pooling, num_filter=proj, kernel=(1, 1), name=('%s_proj' %  name))\n",
    "    # concat\n",
    "    concat = mx.symbol.Concat(*[c1x1, c3x3, cd3x3, cproj], name='ch_concat_%s_chconcat' % name)\n",
    "    return concat\n",
    "prev = mx.symbol.Variable(name=\"Previos Output\")\n",
    "in3a = InceptionFactoryA(prev, 64, 64, 64, 64, 96, \"avg\", 32, name=\"in3a\")\n",
    "mx.viz.plot_network(symbol=in3a, shape=shape)"
   ]
  },
  {
   "cell_type": "markdown",
   "metadata": {},
   "source": [
    "Finally we can obtain the whole network by chaining multiple inception modulas. A complete example is available at [mxnet/example/image-classification/symbol_inception-bn.py](https://github.com/dmlc/mxnet/blob/master/example/image-classification/symbol_inception-bn.py)"
   ]
  },
  {
   "cell_type": "markdown",
   "metadata": {},
   "source": [
    "### Group Multiple Symbols\n",
    "\n",
    "To construct neural networks with multiple loss layers, we can use `mxnet.sym.Group` to group multiple symbols together. "
   ]
  },
  {
   "cell_type": "code",
   "execution_count": 14,
   "metadata": {
    "collapsed": false
   },
   "outputs": [
    {
     "name": "stdout",
     "output_type": "stream",
     "text": [
      "['fc1_output', 'softmax_output']\n"
     ]
    }
   ],
   "source": [
    "net = mx.sym.Variable('data')\n",
    "fc1 = mx.sym.FullyConnected(data=net, name='fc1', num_hidden=128)\n",
    "net = mx.sym.Activation(data=fc1, name='relu1', act_type=\"relu\")\n",
    "out = mx.sym.SoftmaxOutput(data=net, name='softmax')\n",
    "group = mx.sym.Group([fc1, out])\n",
    "print(group.list_outputs())"
   ]
  },
  {
   "cell_type": "markdown",
   "metadata": {},
   "source": [
    "### Variable Sharing\n",
    "\n",
    "Sometimes we want to share the contents between several symbols. This can be simply done by bind these symbols with the same array. \n"
   ]
  },
  {
   "cell_type": "code",
   "execution_count": 15,
   "metadata": {
    "collapsed": false
   },
   "outputs": [
    {
     "name": "stdout",
     "output_type": "stream",
     "text": [
      "[[ 6.  6.  6.]\n",
      " [ 6.  6.  6.]]\n"
     ]
    }
   ],
   "source": [
    "a = mx.sym.Variable('a')\n",
    "b = mx.sym.Variable('b')\n",
    "c = mx.sym.Variable('c')\n",
    "d = a + b * c\n",
    "\n",
    "data = mx.nd.ones((2,3))*2\n",
    "ex = d.bind(ctx=mx.cpu(), args={'a':data, 'b':data, 'c':data})\n",
    "ex.forward()\n",
    "print(ex.outputs[0].asnumpy())"
   ]
  },
  {
   "cell_type": "markdown",
   "metadata": {},
   "source": [
    "TODO. show that backward also works. \n",
    "\n",
    "On the [LSTM tutorial](../rnn/lstm.ipynb) we show how to share the weights between cells during unrolling. "
   ]
  },
  {
   "cell_type": "markdown",
   "metadata": {},
   "source": [
    "### Customized Symbol\n",
    "\n",
    "Most operators such as `mx.sym.Convolution` and `mx.sym.Reshape` are implemented in C++ for better performance. MXNet also allows users to write new operators using any frontend language such as Python. It often makes the developing and debugging much easier. \n",
    "\n",
    "To implement an operator in Python, we just need to define the two computation methods `forward` and `backward` with several methods for querying the properties, such as `list_arguments` and `infer_shape`. \n",
    "\n",
    "`NDArray` is the default type of arguments in both `forward` and `backward`. Therefore we often also implement the computation with `NDArray` operations. To show the flexibility of MXNet, however, we will demonstrate an implementation of the `softmax` layer using NumPy. Though a NumPy based operator can be only run on CPU and also lose some optimizations which can be applied on NDArray, it enjoys the rich functionalities provided by NumPy.\n",
    "\n",
    "We first create a subclass of `mx.operator.CustomOp` and then define `forward` and `backward`.\n",
    "\n",
    "TODO. explain the arguments of forward and backward."
   ]
  },
  {
   "cell_type": "code",
   "execution_count": 16,
   "metadata": {
    "collapsed": false
   },
   "outputs": [],
   "source": [
    "class Softmax(mx.operator.CustomOp):\n",
    "    def forward(self, is_train, req, in_data, out_data, aux):\n",
    "        x = in_data[0].asnumpy()\n",
    "        y = np.exp(x - x.max(axis=1).reshape((x.shape[0], 1)))\n",
    "        y /= y.sum(axis=1).reshape((x.shape[0], 1))\n",
    "        self.assign(out_data[0], req[0], mx.nd.array(y))\n",
    "\n",
    "    def backward(self, req, out_grad, in_data, out_data, in_grad, aux):\n",
    "        l = in_data[1].asnumpy().ravel().astype(np.int)\n",
    "        y = out_data[0].asnumpy()\n",
    "        y[np.arange(l.shape[0]), l] -= 1.0\n",
    "        self.assign(in_grad[0], req[0], mx.nd.array(y))"
   ]
  },
  {
   "cell_type": "markdown",
   "metadata": {
    "collapsed": true
   },
   "source": [
    "Here we use `asnumpy` to convert the `NDArray` inputs into `numpy.ndarray`. Then using `CustomOp.assign` to assign the results back to `mxnet.NDArray` based on the value of req, which could be \"over write\" or \"add to\". \n",
    "\n",
    "Next we create a subclass of `mx.operator.CustomOpProp` for querying the properties."
   ]
  },
  {
   "cell_type": "code",
   "execution_count": 17,
   "metadata": {
    "collapsed": true
   },
   "outputs": [],
   "source": [
    "# register this operator into MXNet by name \"softmax\"\n",
    "@mx.operator.register(\"softmax\")\n",
    "class SoftmaxProp(mx.operator.CustomOpProp):\n",
    "    def __init__(self):\n",
    "        # softmax is a loss layer so we don’t need gradient input\n",
    "        # from layers above. \n",
    "        super(SoftmaxProp, self).__init__(need_top_grad=False)\n",
    "    \n",
    "    def list_arguments(self):\n",
    "        return ['data', 'label']\n",
    "\n",
    "    def list_outputs(self):\n",
    "        return ['output']\n",
    "\n",
    "    def infer_shape(self, in_shape):\n",
    "        data_shape = in_shape[0]\n",
    "        label_shape = (in_shape[0][0],)\n",
    "        output_shape = in_shape[0]\n",
    "        return [data_shape, label_shape], [output_shape], []\n",
    "\n",
    "    def create_operator(self, ctx, shapes, dtypes):\n",
    "        return Softmax()"
   ]
  },
  {
   "cell_type": "markdown",
   "metadata": {},
   "source": [
    "Finally, we can use `mx.sym.Custom` with the register name to use this operator\n",
    "```python\n",
    "net = mx.symbol.Custom(data=prev_input, op_type='softmax')\n",
    "```"
   ]
  },
  {
   "cell_type": "markdown",
   "metadata": {},
   "source": [
    "## Advanced Usages\n",
    "\n",
    "### Type Cast\n",
    "MXNet uses 32-bit float in default. Sometimes we want to use a lower precision data type for better accuracy-performance trade-off. For example, The Nvidia Tesla Pascal GPUs (e.g. P100) have improved 16-bit float performance, while GTX Pascal GPUs (e.g. GTX 1080) are fast on 8-bit integers. \n",
    "\n",
    "We can use the `mx.sym.Cast` operator to convert the data type."
   ]
  },
  {
   "cell_type": "code",
   "execution_count": 18,
   "metadata": {
    "collapsed": false,
    "scrolled": false
   },
   "outputs": [
    {
     "name": "stdout",
     "output_type": "stream",
     "text": [
      "{'input': [<type 'numpy.float32'>], 'output': [<type 'numpy.float16'>]}\n",
      "{'input': [<type 'numpy.int32'>], 'output': [<type 'numpy.float16'>]}\n"
     ]
    }
   ],
   "source": [
    "a = mx.sym.Variable('data')\n",
    "b = mx.sym.Cast(data=a, dtype='float16')\n",
    "arg, out, _ = b.infer_type(data='float32')\n",
    "print({'input':arg, 'output':out})\n",
    "\n",
    "c = mx.sym.Cast(data=c, dtype='uint8')\n",
    "arg, out, _ = b.infer_type(data='int32')\n",
    "print({'input':arg, 'output':out})"
   ]
  },
  {
   "cell_type": "markdown",
   "metadata": {},
   "source": [
    "### Symbol Attributes\n",
    "Attributes can be attached to symbols to provide additional information.\n",
    "For example, we can pass the device information for model parallelism, or layer specific learning rate. \n",
    "\n",
    "The attributes are string key-value pairs, which can be retrieved via `attr(key)` or `list_attr()`."
   ]
  },
  {
   "cell_type": "code",
   "execution_count": 19,
   "metadata": {
    "collapsed": false
   },
   "outputs": [
    {
     "data": {
      "text/plain": [
       "('angry', {'mood': 'so so'})"
      ]
     },
     "execution_count": 19,
     "metadata": {},
     "output_type": "execute_result"
    }
   ],
   "source": [
    "data = mx.sym.Variable('data', attr={'mood': 'angry'})\n",
    "op   = mx.sym.Convolution(data=data, name='conv', kernel=(1, 1),\n",
    "                          num_filter=1, attr={'mood': 'so so'})\n",
    "(data.attr('mood'), op.list_attr())"
   ]
  },
  {
   "cell_type": "markdown",
   "metadata": {},
   "source": [
    "Finally, we can use `mx.sym.Custom` with the register name to use this operator\n",
    "```python\n",
    "net = mx.symbol.Custom(data=prev_input, op_type='softmax')\n",
    "```"
   ]
  },
  {
   "cell_type": "markdown",
   "metadata": {},
   "source": [
    "We can also retrieve all the attributes associated with that symbol and its descendants via `list_attr(recursive=True)`. Note that the returned attribute names are added with the symbol name prefix to avoid naming conflicts."
   ]
  },
  {
   "cell_type": "code",
   "execution_count": 20,
   "metadata": {
    "collapsed": false
   },
   "outputs": [
    {
     "data": {
      "text/plain": [
       "{'conv_bias_mood': 'so so',\n",
       " 'conv_mood': 'so so',\n",
       " 'conv_weight_mood': 'so so',\n",
       " 'data_mood': 'angry'}"
      ]
     },
     "execution_count": 20,
     "metadata": {},
     "output_type": "execute_result"
    }
   ],
   "source": [
    "op.list_attr(recursive=True)"
   ]
  },
  {
   "cell_type": "markdown",
   "metadata": {},
   "source": [
    "Note that the `mood` attribute we set for the Convolution operator is copied to both parameters `conv_weight` and `conv_bias`. This copy is applied in default. We can also use `AttrScope` to add attributes to all symbols in the scope."
   ]
  },
  {
   "cell_type": "code",
   "execution_count": 21,
   "metadata": {
    "collapsed": false
   },
   "outputs": [
    {
     "data": {
      "text/plain": [
       "('great', 'great', '0.0')"
      ]
     },
     "execution_count": 21,
     "metadata": {},
     "output_type": "execute_result"
    }
   ],
   "source": [
    "data = mx.symbol.Variable('data')\n",
    "with mx.AttrScope(group='4', data='great'):\n",
    "    fc1 = mx.symbol.Activation(data, act_type='relu')\n",
    "    with mx.AttrScope(init_bias='0.0'):\n",
    "        fc2 = mx.symbol.FullyConnected(fc1, num_hidden=10, name='fc2')\n",
    "(fc1.attr('data'), fc2.attr('data'), fc2.attr('init_bias'))"
   ]
  },
  {
   "cell_type": "markdown",
   "metadata": {},
   "source": [
    "We can explicitly create the parameter to stop the default copy. "
   ]
  },
  {
   "cell_type": "code",
   "execution_count": 22,
   "metadata": {
    "collapsed": false
   },
   "outputs": [
    {
     "data": {
      "text/plain": [
       "{'conv_bias_mood': 'so so', 'conv_mood': 'so so', 'crazy_weight_size': '5'}"
      ]
     },
     "execution_count": 22,
     "metadata": {},
     "output_type": "execute_result"
    }
   ],
   "source": [
    "weight = mx.sym.Variable('crazy_weight', attr={'size': '5'})\n",
    "op = mx.sym.Convolution(data=data, weight=weight, name='conv', kernel=(1, 1),\n",
    "                        num_filter=1, attr={'mood': 'so so'})\n",
    "op.list_attr(recursive=True)"
   ]
  },
  {
   "cell_type": "markdown",
   "metadata": {},
   "source": [
    "## Further Readings\n",
    "\n",
    "- [Use torch operators in MXNet](http://mxnet.dmlc.ml/en/latest/how_to/torch.html)\n",
    "- [Use Caffe operators in MXNet](http://dmlc.ml/mxnet/2016/07/29/use-caffe-operator-in-mxnet.html)"
   ]
  }
 ],
 "metadata": {
  "anaconda-cloud": {},
  "kernelspec": {
   "display_name": "Python 2",
   "language": "python",
   "name": "python2"
  },
  "language_info": {
   "codemirror_mode": {
    "name": "ipython",
    "version": 2
   },
   "file_extension": ".py",
   "mimetype": "text/x-python",
   "name": "python",
   "nbconvert_exporter": "python",
   "pygments_lexer": "ipython2",
   "version": "2.7.6"
  }
 },
 "nbformat": 4,
 "nbformat_minor": 1
}
