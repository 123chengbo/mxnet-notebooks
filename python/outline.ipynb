{
 "cells": [
  {
   "cell_type": "markdown",
   "metadata": {},
   "source": [
    "# Python Notebooks for MXNet\n",
    "\n",
    "The outline of python notebooks.\n",
    "\n",
    "## Basic Concepts\n",
    "\n",
    "These tutorials walk through how to use the basic components of MXNet.\n",
    "\n",
    "- [NDArray](./basic/ndarray.ipynb): multi-dimensional array \n",
    "- [Symbol](./basic/symbol.ipynb): symbolic expression\n",
    "- [mxied programming](./basic/mixed.ipynb): developing training algorithms by using NDArray and Symbol together.\n",
    "- [Module](./basic/module.ipynb) : intermediate-level and high-level interface for neural network training and inference. \n",
    "- DOING. [Data Input]() : data iterators\n",
    "- DOING. [Key-value Store]() : data communication for multi-device and multi-machines training \n",
    "- TODO. Initializer : various ways to intialize the parameters\n",
    "- TODO. Optimizer : parameters updaters such as `sgd` updater\n",
    "- TODO. Metric : various metric to evaluate the progress\n",
    " \n",
    "\n",
    "## Neural Networks\n",
    "\n",
    "How to implement various neural networks. \n",
    "\n",
    "TODO. Convolution Neural Networks\n",
    "\n",
    "Recurrent Neural networks\n",
    "- [LSTM](./rnn/lstm.ipynb) build LSTM from scratch\n",
    "\n",
    "## How To\n",
    "\n",
    "- TODO Use pretrained models for prediction and feature extraction. \n",
    "\n",
    "## Applications\n",
    "\n",
    "Complete examples for various applications. \n",
    "\n",
    "### Image Classification\n",
    "\n",
    "- [Convolutional neural network for Written Digit Recognition](./cnn/mnist.ipynb) train and predict on the mnist datasets\n",
    "\n",
    "### Recommendation Systems\n",
    "\n",
    "- [Matrix Factorization](./recommendation_systems/matrix_factorization.ipynb) writing a basic matrix factorization algorithm\n",
    "- [Collaborative Deep Learning](./recommendation_systems/cdl/collaborative-dl.ipynb) state-of-the-art algorithm in KDD 15\n"
   ]
  }
 ],
 "metadata": {
  "anaconda-cloud": {},
  "kernelspec": {
   "display_name": "Python 2",
   "language": "python",
   "name": "python2"
  },
  "language_info": {
   "codemirror_mode": {
    "name": "ipython",
    "version": 2
   },
   "file_extension": ".py",
   "mimetype": "text/x-python",
   "name": "python",
   "nbconvert_exporter": "python",
   "pygments_lexer": "ipython2",
   "version": "2.7.6"
  }
 },
 "nbformat": 4,
 "nbformat_minor": 0
}
