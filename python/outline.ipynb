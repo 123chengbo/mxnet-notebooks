{
 "cells": [
  {
   "cell_type": "markdown",
   "metadata": {},
   "source": [
    "# Python Notebooks for MXNet\n",
    "\n",
    "The outline of python notebooks.\n",
    "\n",
    "## Basic Concepts\n",
    "\n",
    "These tutorials walk through how to use the basic components of MXNet.\n",
    "\n",
    "- [NDArray](./basic/ndarray.ipynb): multi-dimensional array \n",
    "- [Symbol](./basic/symbol.ipynb): symbolic expression\n",
    "- [mxied programming](./basic/mixed.ipynb): developing training algorithms by using NDArray and Symbol together.\n",
    "- TODO. IO : data iterators\n",
    "- TODO. module : intermediate-level and high-level interface for neural network training and inference. \n",
    "- TODO. kvstore : data communication for multi-device and multi-machines training \n",
    "\n",
    "## Neural Networks\n",
    "\n",
    "How to implement various neural networks. \n",
    "\n",
    "TODO. Convolution Neural Networks\n",
    "\n",
    "Recurrent Neural networks\n",
    "- [LSTM](./rnn/lstm.ipynb) build LSTM from scratch\n",
    "\n",
    "## How To\n",
    "\n",
    "- TODO Use pretrained models for prediction and feature extraction. \n",
    "\n",
    "## Applications\n",
    "\n",
    "Complete examples for various applications. \n",
    "\n",
    "### Image Classification\n",
    "\n",
    "- [Convolutional neural network for Written Digit Recognition](./cnn/mnist.ipynb) train and predict on the mnist datasets\n",
    "\n",
    "### Recommendation Systems\n",
    "\n",
    "- [Matrix Factorization](./recommendation_systems/matrix_factorization.ipynb) writing a basic matrix factorization algorithm\n",
    "- [Collaborative Deep Learning](./recommendation_systems/cdl/collaborative-dl.ipynb) state-of-the-art algorithm in KDD 15\n"
   ]
  }
 ],
 "metadata": {
  "anaconda-cloud": {},
  "kernelspec": {
   "display_name": "Python [Root]",
   "language": "python",
   "name": "Python [Root]"
  },
  "language_info": {
   "codemirror_mode": {
    "name": "ipython",
    "version": 3
   },
   "file_extension": ".py",
   "mimetype": "text/x-python",
   "name": "python",
   "nbconvert_exporter": "python",
   "pygments_lexer": "ipython3",
   "version": "3.5.2"
  }
 },
 "nbformat": 4,
 "nbformat_minor": 0
}
