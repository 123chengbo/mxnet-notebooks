{
 "cells": [
  {
   "cell_type": "markdown",
   "metadata": {},
   "source": [
    "# KDD 16 Hands-on Tutorials\n",
    "\n",
    "This tutorial provides a quick walk through of MXNet's basic concepts and examples of application development. \n",
    "\n",
    "## Basic Concepts\n",
    "- [NDArray](../python/basic/ndarray.ipynb) multi-dimensional array\n",
    "- [Symbol](../python/basic/symbol.ipynb) symbolic expression\n",
    "\n",
    "## Simple Examples\n",
    "- [Matrix Factorization](../python/recommendation_systems/matrix_factorization.ipynb) writing a basic matrix factorization algorithm\n",
    "\n",
    "## Advanced Examples\n",
    "- [Long short-term memory](../python/rnn/lstm.ipynb) implement LSTM from scratch\n",
    "- [Collaborative Deep Learning](../python/recommendation_systems/cdl/collaborative-dl.ipynb) state-of-the-art algorithm in KDD 15\n",
    "- [Convolutional neural network for Written Digit Recognition](../python/cnn/mnist.ipynb) train and predict on the mnist datasets\n",
    "\n",
    "## More examples:\n",
    "\n",
    "We can even try the MXNet GTC tutorials made early this year, which is more computer vision focused. First open an terminal, such as open the link http://xxx.compute-1.amazonaws.com/terminals/1, replace the xxx by the real `ec2-*` string appeared in your broswer. Then type \n",
    "```\n",
    "git clone https://github.com/dmlc/mxnet-gtc-tutorial\n",
    "```\n",
    "in the terminal.\n",
    "\n",
    "Now you can acess the examples:\n",
    "\n",
    "- [neural art](../../mxnet-gtc-tutorial/neuralart/neuralart.ipynb)\n",
    "- [char lstm](../../mxnet-gtc-tutorial/char-lstm/char_lstm.ipynb)\n",
    "- [deep 3d](../../mxnet-gtc-tutorial/deep3d/deep3d.ipynb)"
   ]
  }
 ],
 "metadata": {
  "kernelspec": {
   "display_name": "Python 2",
   "language": "python",
   "name": "python2"
  },
  "language_info": {
   "codemirror_mode": {
    "name": "ipython",
    "version": 2
   },
   "file_extension": ".py",
   "mimetype": "text/x-python",
   "name": "python",
   "nbconvert_exporter": "python",
   "pygments_lexer": "ipython2",
   "version": "2.7.6"
  }
 },
 "nbformat": 4,
 "nbformat_minor": 1
}
